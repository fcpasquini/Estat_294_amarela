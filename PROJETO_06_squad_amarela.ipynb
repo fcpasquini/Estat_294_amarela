{
 "cells": [
  {
   "cell_type": "code",
   "execution_count": 139,
   "metadata": {},
   "outputs": [],
   "source": [
    "import pandas as pd\n",
    "import numpy as np\n",
    "import matplotlib.pyplot as plt\n",
    "import re\n",
    "from scipy.stats import norm, ttest_ind, f, t, chi2_contingency"
   ]
  },
  {
   "cell_type": "markdown",
   "metadata": {},
   "source": [
    "## ANALISANDO E TRABALHANDO O DATAFRAME"
   ]
  },
  {
   "cell_type": "code",
   "execution_count": 2,
   "metadata": {},
   "outputs": [],
   "source": [
    "arq = pd.read_csv('family-income-and-expenditure/family_income_and_expenditure.csv')"
   ]
  },
  {
   "cell_type": "code",
   "execution_count": 3,
   "metadata": {
    "scrolled": true
   },
   "outputs": [
    {
     "data": {
      "text/html": [
       "<div>\n",
       "<style scoped>\n",
       "    .dataframe tbody tr th:only-of-type {\n",
       "        vertical-align: middle;\n",
       "    }\n",
       "\n",
       "    .dataframe tbody tr th {\n",
       "        vertical-align: top;\n",
       "    }\n",
       "\n",
       "    .dataframe thead th {\n",
       "        text-align: right;\n",
       "    }\n",
       "</style>\n",
       "<table border=\"1\" class=\"dataframe\">\n",
       "  <thead>\n",
       "    <tr style=\"text-align: right;\">\n",
       "      <th></th>\n",
       "      <th>Total Household Income</th>\n",
       "      <th>Region</th>\n",
       "      <th>Total Food Expenditure</th>\n",
       "      <th>Main Source of Income</th>\n",
       "      <th>Agricultural Household indicator</th>\n",
       "      <th>Bread and Cereals Expenditure</th>\n",
       "      <th>Total Rice Expenditure</th>\n",
       "      <th>Meat Expenditure</th>\n",
       "      <th>Total Fish and  marine products Expenditure</th>\n",
       "      <th>Fruit Expenditure</th>\n",
       "      <th>...</th>\n",
       "      <th>Number of Refrigerator/Freezer</th>\n",
       "      <th>Number of Washing Machine</th>\n",
       "      <th>Number of Airconditioner</th>\n",
       "      <th>Number of Car, Jeep, Van</th>\n",
       "      <th>Number of Landline/wireless telephones</th>\n",
       "      <th>Number of Cellular phone</th>\n",
       "      <th>Number of Personal Computer</th>\n",
       "      <th>Number of Stove with Oven/Gas Range</th>\n",
       "      <th>Number of Motorized Banca</th>\n",
       "      <th>Number of Motorcycle/Tricycle</th>\n",
       "    </tr>\n",
       "  </thead>\n",
       "  <tbody>\n",
       "    <tr>\n",
       "      <th>0</th>\n",
       "      <td>480332</td>\n",
       "      <td>CAR</td>\n",
       "      <td>117848</td>\n",
       "      <td>Wage/Salaries</td>\n",
       "      <td>0</td>\n",
       "      <td>42140</td>\n",
       "      <td>38300</td>\n",
       "      <td>24676</td>\n",
       "      <td>16806</td>\n",
       "      <td>3325</td>\n",
       "      <td>...</td>\n",
       "      <td>1</td>\n",
       "      <td>1</td>\n",
       "      <td>0</td>\n",
       "      <td>0</td>\n",
       "      <td>0</td>\n",
       "      <td>2</td>\n",
       "      <td>1</td>\n",
       "      <td>0</td>\n",
       "      <td>0</td>\n",
       "      <td>1</td>\n",
       "    </tr>\n",
       "    <tr>\n",
       "      <th>1</th>\n",
       "      <td>198235</td>\n",
       "      <td>CAR</td>\n",
       "      <td>67766</td>\n",
       "      <td>Wage/Salaries</td>\n",
       "      <td>0</td>\n",
       "      <td>17329</td>\n",
       "      <td>13008</td>\n",
       "      <td>17434</td>\n",
       "      <td>11073</td>\n",
       "      <td>2035</td>\n",
       "      <td>...</td>\n",
       "      <td>0</td>\n",
       "      <td>1</td>\n",
       "      <td>0</td>\n",
       "      <td>0</td>\n",
       "      <td>0</td>\n",
       "      <td>3</td>\n",
       "      <td>1</td>\n",
       "      <td>0</td>\n",
       "      <td>0</td>\n",
       "      <td>2</td>\n",
       "    </tr>\n",
       "    <tr>\n",
       "      <th>2</th>\n",
       "      <td>82785</td>\n",
       "      <td>CAR</td>\n",
       "      <td>61609</td>\n",
       "      <td>Wage/Salaries</td>\n",
       "      <td>1</td>\n",
       "      <td>34182</td>\n",
       "      <td>32001</td>\n",
       "      <td>7783</td>\n",
       "      <td>2590</td>\n",
       "      <td>1730</td>\n",
       "      <td>...</td>\n",
       "      <td>0</td>\n",
       "      <td>0</td>\n",
       "      <td>0</td>\n",
       "      <td>0</td>\n",
       "      <td>0</td>\n",
       "      <td>0</td>\n",
       "      <td>0</td>\n",
       "      <td>0</td>\n",
       "      <td>0</td>\n",
       "      <td>0</td>\n",
       "    </tr>\n",
       "    <tr>\n",
       "      <th>3</th>\n",
       "      <td>107589</td>\n",
       "      <td>CAR</td>\n",
       "      <td>78189</td>\n",
       "      <td>Wage/Salaries</td>\n",
       "      <td>0</td>\n",
       "      <td>34030</td>\n",
       "      <td>28659</td>\n",
       "      <td>10914</td>\n",
       "      <td>10812</td>\n",
       "      <td>690</td>\n",
       "      <td>...</td>\n",
       "      <td>0</td>\n",
       "      <td>0</td>\n",
       "      <td>0</td>\n",
       "      <td>0</td>\n",
       "      <td>0</td>\n",
       "      <td>1</td>\n",
       "      <td>0</td>\n",
       "      <td>0</td>\n",
       "      <td>0</td>\n",
       "      <td>0</td>\n",
       "    </tr>\n",
       "    <tr>\n",
       "      <th>4</th>\n",
       "      <td>189322</td>\n",
       "      <td>CAR</td>\n",
       "      <td>94625</td>\n",
       "      <td>Wage/Salaries</td>\n",
       "      <td>0</td>\n",
       "      <td>34820</td>\n",
       "      <td>30167</td>\n",
       "      <td>18391</td>\n",
       "      <td>11309</td>\n",
       "      <td>1395</td>\n",
       "      <td>...</td>\n",
       "      <td>1</td>\n",
       "      <td>0</td>\n",
       "      <td>0</td>\n",
       "      <td>0</td>\n",
       "      <td>0</td>\n",
       "      <td>3</td>\n",
       "      <td>0</td>\n",
       "      <td>0</td>\n",
       "      <td>0</td>\n",
       "      <td>1</td>\n",
       "    </tr>\n",
       "  </tbody>\n",
       "</table>\n",
       "<p>5 rows × 60 columns</p>\n",
       "</div>"
      ],
      "text/plain": [
       "   Total Household Income Region  Total Food Expenditure  \\\n",
       "0                  480332    CAR                  117848   \n",
       "1                  198235    CAR                   67766   \n",
       "2                   82785    CAR                   61609   \n",
       "3                  107589    CAR                   78189   \n",
       "4                  189322    CAR                   94625   \n",
       "\n",
       "  Main Source of Income  Agricultural Household indicator  \\\n",
       "0         Wage/Salaries                                 0   \n",
       "1         Wage/Salaries                                 0   \n",
       "2         Wage/Salaries                                 1   \n",
       "3         Wage/Salaries                                 0   \n",
       "4         Wage/Salaries                                 0   \n",
       "\n",
       "   Bread and Cereals Expenditure  Total Rice Expenditure  Meat Expenditure  \\\n",
       "0                          42140                   38300             24676   \n",
       "1                          17329                   13008             17434   \n",
       "2                          34182                   32001              7783   \n",
       "3                          34030                   28659             10914   \n",
       "4                          34820                   30167             18391   \n",
       "\n",
       "   Total Fish and  marine products Expenditure  Fruit Expenditure  ...  \\\n",
       "0                                        16806               3325  ...   \n",
       "1                                        11073               2035  ...   \n",
       "2                                         2590               1730  ...   \n",
       "3                                        10812                690  ...   \n",
       "4                                        11309               1395  ...   \n",
       "\n",
       "   Number of Refrigerator/Freezer  Number of Washing Machine  \\\n",
       "0                               1                          1   \n",
       "1                               0                          1   \n",
       "2                               0                          0   \n",
       "3                               0                          0   \n",
       "4                               1                          0   \n",
       "\n",
       "   Number of Airconditioner  Number of Car, Jeep, Van  \\\n",
       "0                         0                         0   \n",
       "1                         0                         0   \n",
       "2                         0                         0   \n",
       "3                         0                         0   \n",
       "4                         0                         0   \n",
       "\n",
       "   Number of Landline/wireless telephones  Number of Cellular phone  \\\n",
       "0                                       0                         2   \n",
       "1                                       0                         3   \n",
       "2                                       0                         0   \n",
       "3                                       0                         1   \n",
       "4                                       0                         3   \n",
       "\n",
       "   Number of Personal Computer  Number of Stove with Oven/Gas Range  \\\n",
       "0                            1                                    0   \n",
       "1                            1                                    0   \n",
       "2                            0                                    0   \n",
       "3                            0                                    0   \n",
       "4                            0                                    0   \n",
       "\n",
       "   Number of Motorized Banca  Number of Motorcycle/Tricycle  \n",
       "0                          0                              1  \n",
       "1                          0                              2  \n",
       "2                          0                              0  \n",
       "3                          0                              0  \n",
       "4                          0                              1  \n",
       "\n",
       "[5 rows x 60 columns]"
      ]
     },
     "execution_count": 3,
     "metadata": {},
     "output_type": "execute_result"
    }
   ],
   "source": [
    "arq.head()"
   ]
  },
  {
   "cell_type": "code",
   "execution_count": 4,
   "metadata": {},
   "outputs": [
    {
     "data": {
      "text/plain": [
       "(41544, 60)"
      ]
     },
     "execution_count": 4,
     "metadata": {},
     "output_type": "execute_result"
    }
   ],
   "source": [
    "arq.shape"
   ]
  },
  {
   "cell_type": "code",
   "execution_count": 74,
   "metadata": {
    "collapsed": true
   },
   "outputs": [
    {
     "name": "stdout",
     "output_type": "stream",
     "text": [
      "Total Household Income\n",
      "Region\n",
      "Total Food Expenditure\n",
      "Main Source of Income\n",
      "Agricultural Household indicator\n",
      "Bread and Cereals Expenditure\n",
      "Total Rice Expenditure\n",
      "Meat Expenditure\n",
      "Total Fish and  marine products Expenditure\n",
      "Fruit Expenditure\n",
      "Vegetables Expenditure\n",
      "Restaurant and hotels Expenditure\n",
      "Alcoholic Beverages Expenditure\n",
      "Tobacco Expenditure\n",
      "Clothing, Footwear and Other Wear Expenditure\n",
      "Housing and water Expenditure\n",
      "Imputed House Rental Value\n",
      "Medical Care Expenditure\n",
      "Transportation Expenditure\n",
      "Communication Expenditure\n",
      "Education Expenditure\n",
      "Miscellaneous Goods and Services Expenditure\n",
      "Special Occasions Expenditure\n",
      "Crop Farming and Gardening expenses\n",
      "Total Income from Entrepreneurial Acitivites\n",
      "Household Head Sex\n",
      "Household Head Age\n",
      "Household Head Marital Status\n",
      "Household Head Highest Grade Completed\n",
      "Household Head Job or Business Indicator\n",
      "Household Head Occupation\n",
      "Household Head Class of Worker\n",
      "Type of Household\n",
      "Total Number of Family members\n",
      "Members with age less than 5 year old\n",
      "Members with age 5 - 17 years old\n",
      "Total number of family members employed\n",
      "Type of Building/House\n",
      "Type of Roof\n",
      "Type of Walls\n",
      "House Floor Area\n",
      "House Age\n",
      "Number of bedrooms\n",
      "Tenure Status\n",
      "Toilet Facilities\n",
      "Electricity\n",
      "Main Source of Water Supply\n",
      "Number of Television\n",
      "Number of CD/VCD/DVD\n",
      "Number of Component/Stereo set\n",
      "Number of Refrigerator/Freezer\n",
      "Number of Washing Machine\n",
      "Number of Airconditioner\n",
      "Number of Car, Jeep, Van\n",
      "Number of Landline/wireless telephones\n",
      "Number of Cellular phone\n",
      "Number of Personal Computer\n",
      "Number of Stove with Oven/Gas Range\n",
      "Number of Motorized Banca\n",
      "Number of Motorcycle/Tricycle\n",
      "Schoolarship\n",
      "Income Source\n"
     ]
    }
   ],
   "source": [
    "# Colunas do nosso dataframe\n",
    "for i in arq.columns:\n",
    "    print(i)"
   ]
  },
  {
   "cell_type": "code",
   "execution_count": 6,
   "metadata": {},
   "outputs": [
    {
     "data": {
      "text/plain": [
       "array(['CAR', 'Caraga', 'VI - Western Visayas', 'V - Bicol Region',\n",
       "       ' ARMM', 'III - Central Luzon', 'II - Cagayan Valley',\n",
       "       'IVA - CALABARZON', 'VII - Central Visayas',\n",
       "       'X - Northern Mindanao', 'XI - Davao Region',\n",
       "       'VIII - Eastern Visayas', 'I - Ilocos Region', 'NCR',\n",
       "       'IVB - MIMAROPA', 'XII - SOCCSKSARGEN',\n",
       "       'IX - Zasmboanga Peninsula'], dtype=object)"
      ]
     },
     "execution_count": 6,
     "metadata": {},
     "output_type": "execute_result"
    }
   ],
   "source": [
    "# Dataframe organizado por região...\n",
    "arq.Region.unique()"
   ]
  },
  {
   "cell_type": "code",
   "execution_count": 7,
   "metadata": {},
   "outputs": [
    {
     "data": {
      "text/plain": [
       "array(['Wage/Salaries', 'Other sources of Income',\n",
       "       'Enterpreneurial Activities'], dtype=object)"
      ]
     },
     "execution_count": 7,
     "metadata": {},
     "output_type": "execute_result"
    }
   ],
   "source": [
    "arq['Main Source of Income'].unique()"
   ]
  },
  {
   "cell_type": "code",
   "execution_count": 8,
   "metadata": {
    "collapsed": true
   },
   "outputs": [
    {
     "data": {
      "text/plain": [
       "array(['Teacher Training and Education Sciences Programs',\n",
       "       'Transport Services Programs', 'Grade 3', 'Elementary Graduate',\n",
       "       'Second Year High School', 'Third Year High School',\n",
       "       'Business and Administration Programs', 'First Year College',\n",
       "       'High School Graduate',\n",
       "       'Other Programs in Education at the Third Level, First Stage, of the Type that Leads to an Award not Equivalent to a First University or Baccalaureate Degree',\n",
       "       'Humanities Programs', 'First Year High School', 'Grade 6',\n",
       "       'Grade 4', 'Engineering and Engineering Trades Programs',\n",
       "       'Grade 2', 'Grade 5', 'Social and Behavioral Science Programs',\n",
       "       'Agriculture, Forestry, and Fishery Programs', 'Health Programs',\n",
       "       'Fourth Year College',\n",
       "       'Engineering and Engineering trades Programs',\n",
       "       'Second Year College', 'Third Year College', 'Grade 1',\n",
       "       'No Grade Completed', 'Security Services Programs',\n",
       "       'Basic Programs', 'First Year Post Secondary',\n",
       "       'Second Year Post Secondary', 'Post Baccalaureate',\n",
       "       'Computing/Information Technology Programs',\n",
       "       'Mathematics and Statistics Programs',\n",
       "       'Personal Services Programs', 'Law Programs',\n",
       "       'Journalism and Information Programs',\n",
       "       'Architecture and Building Programs',\n",
       "       'Manufacturing and Processing Programs', 'Life Sciences Programs',\n",
       "       'Other Programs of Education at the Third Level, First Stage, of the Type that Leads to a Baccalaureate or First University/Professional Degree (HIgher Education Level, First Stage, or Collegiate Education Level)',\n",
       "       'Social Services Programs', 'Preschool',\n",
       "       'Physical Sciences Programs', 'Arts Programs',\n",
       "       'Veterinary Programs', 'Environmental Protection Programs'],\n",
       "      dtype=object)"
      ]
     },
     "execution_count": 8,
     "metadata": {},
     "output_type": "execute_result"
    }
   ],
   "source": [
    "arq['Household Head Highest Grade Completed'].unique()"
   ]
  },
  {
   "cell_type": "code",
   "execution_count": 9,
   "metadata": {},
   "outputs": [],
   "source": [
    "# Função para acertar a Escolaridade\n",
    "def escolaridade(i):\n",
    "    for item in ['Programs', 'College', 'Post']:\n",
    "        if item in i:\n",
    "            return 'Superior'\n",
    "    for item in ['High School']:\n",
    "        if item in i:\n",
    "            return 'Medio'\n",
    "    for item in ['Grade', 'Elementary', 'Preschool']:\n",
    "        if item in i:\n",
    "            return 'Fundamental'   "
   ]
  },
  {
   "cell_type": "code",
   "execution_count": 10,
   "metadata": {},
   "outputs": [],
   "source": [
    "# Acertando a escolaridade com a função acima\n",
    "arq['Schoolarship'] = arq['Household Head Highest Grade Completed'].apply(escolaridade)"
   ]
  },
  {
   "cell_type": "code",
   "execution_count": 11,
   "metadata": {},
   "outputs": [],
   "source": [
    "# Acertando a fonte de rendimento da família... Salário ou Outro\n",
    "arq['Income Source'] = arq['Main Source of Income'].apply(lambda x: 'Salary' if x == 'Wage/Salaries' else 'Other')"
   ]
  },
  {
   "cell_type": "markdown",
   "metadata": {},
   "source": [
    " ##  ==============      MILESTONE 01      ============== "
   ]
  },
  {
   "cell_type": "markdown",
   "metadata": {},
   "source": [
    "### - Gerando amostra de 100 elementos:"
   ]
  },
  {
   "cell_type": "markdown",
   "metadata": {},
   "source": [
    "como os dados estão organizados por região, utilizarei uma amostragem sistemática:"
   ]
  },
  {
   "cell_type": "code",
   "execution_count": 12,
   "metadata": {},
   "outputs": [],
   "source": [
    "def amostra_sistematica(dados, n=30):\n",
    "    N = len(dados)\n",
    "    k = N//n\n",
    "    start = np.random.randint(k)\n",
    "    return dados.iloc[list(range(start, N, k))]"
   ]
  },
  {
   "cell_type": "code",
   "execution_count": 38,
   "metadata": {},
   "outputs": [
    {
     "data": {
      "text/html": [
       "<div>\n",
       "<style scoped>\n",
       "    .dataframe tbody tr th:only-of-type {\n",
       "        vertical-align: middle;\n",
       "    }\n",
       "\n",
       "    .dataframe tbody tr th {\n",
       "        vertical-align: top;\n",
       "    }\n",
       "\n",
       "    .dataframe thead th {\n",
       "        text-align: right;\n",
       "    }\n",
       "</style>\n",
       "<table border=\"1\" class=\"dataframe\">\n",
       "  <thead>\n",
       "    <tr style=\"text-align: right;\">\n",
       "      <th></th>\n",
       "      <th>Total Household Income</th>\n",
       "      <th>Region</th>\n",
       "      <th>Total Food Expenditure</th>\n",
       "      <th>Main Source of Income</th>\n",
       "      <th>Agricultural Household indicator</th>\n",
       "      <th>Bread and Cereals Expenditure</th>\n",
       "      <th>Total Rice Expenditure</th>\n",
       "      <th>Meat Expenditure</th>\n",
       "      <th>Total Fish and  marine products Expenditure</th>\n",
       "      <th>Fruit Expenditure</th>\n",
       "      <th>...</th>\n",
       "      <th>Number of Airconditioner</th>\n",
       "      <th>Number of Car, Jeep, Van</th>\n",
       "      <th>Number of Landline/wireless telephones</th>\n",
       "      <th>Number of Cellular phone</th>\n",
       "      <th>Number of Personal Computer</th>\n",
       "      <th>Number of Stove with Oven/Gas Range</th>\n",
       "      <th>Number of Motorized Banca</th>\n",
       "      <th>Number of Motorcycle/Tricycle</th>\n",
       "      <th>Schoolarship</th>\n",
       "      <th>Income Source</th>\n",
       "    </tr>\n",
       "  </thead>\n",
       "  <tbody>\n",
       "    <tr>\n",
       "      <th>361</th>\n",
       "      <td>85409</td>\n",
       "      <td>Caraga</td>\n",
       "      <td>43050</td>\n",
       "      <td>Wage/Salaries</td>\n",
       "      <td>1</td>\n",
       "      <td>21858</td>\n",
       "      <td>14820</td>\n",
       "      <td>4599</td>\n",
       "      <td>6044</td>\n",
       "      <td>410</td>\n",
       "      <td>...</td>\n",
       "      <td>0</td>\n",
       "      <td>0</td>\n",
       "      <td>0</td>\n",
       "      <td>1</td>\n",
       "      <td>0</td>\n",
       "      <td>0</td>\n",
       "      <td>0</td>\n",
       "      <td>0</td>\n",
       "      <td>Fundamental</td>\n",
       "      <td>Salary</td>\n",
       "    </tr>\n",
       "    <tr>\n",
       "      <th>776</th>\n",
       "      <td>193723</td>\n",
       "      <td>Caraga</td>\n",
       "      <td>58865</td>\n",
       "      <td>Other sources of Income</td>\n",
       "      <td>0</td>\n",
       "      <td>22943</td>\n",
       "      <td>16796</td>\n",
       "      <td>5456</td>\n",
       "      <td>11180</td>\n",
       "      <td>400</td>\n",
       "      <td>...</td>\n",
       "      <td>0</td>\n",
       "      <td>1</td>\n",
       "      <td>0</td>\n",
       "      <td>2</td>\n",
       "      <td>0</td>\n",
       "      <td>0</td>\n",
       "      <td>0</td>\n",
       "      <td>0</td>\n",
       "      <td>Fundamental</td>\n",
       "      <td>Other</td>\n",
       "    </tr>\n",
       "    <tr>\n",
       "      <th>1191</th>\n",
       "      <td>24110</td>\n",
       "      <td>Caraga</td>\n",
       "      <td>12366</td>\n",
       "      <td>Other sources of Income</td>\n",
       "      <td>0</td>\n",
       "      <td>6925</td>\n",
       "      <td>6340</td>\n",
       "      <td>370</td>\n",
       "      <td>1289</td>\n",
       "      <td>200</td>\n",
       "      <td>...</td>\n",
       "      <td>0</td>\n",
       "      <td>0</td>\n",
       "      <td>0</td>\n",
       "      <td>0</td>\n",
       "      <td>0</td>\n",
       "      <td>0</td>\n",
       "      <td>0</td>\n",
       "      <td>0</td>\n",
       "      <td>Medio</td>\n",
       "      <td>Other</td>\n",
       "    </tr>\n",
       "    <tr>\n",
       "      <th>1606</th>\n",
       "      <td>485060</td>\n",
       "      <td>V - Bicol Region</td>\n",
       "      <td>107805</td>\n",
       "      <td>Enterpreneurial Activities</td>\n",
       "      <td>0</td>\n",
       "      <td>10923</td>\n",
       "      <td>8476</td>\n",
       "      <td>7820</td>\n",
       "      <td>2848</td>\n",
       "      <td>2845</td>\n",
       "      <td>...</td>\n",
       "      <td>1</td>\n",
       "      <td>0</td>\n",
       "      <td>0</td>\n",
       "      <td>2</td>\n",
       "      <td>0</td>\n",
       "      <td>0</td>\n",
       "      <td>0</td>\n",
       "      <td>0</td>\n",
       "      <td>Medio</td>\n",
       "      <td>Other</td>\n",
       "    </tr>\n",
       "    <tr>\n",
       "      <th>2021</th>\n",
       "      <td>458310</td>\n",
       "      <td>VI - Western Visayas</td>\n",
       "      <td>143524</td>\n",
       "      <td>Enterpreneurial Activities</td>\n",
       "      <td>0</td>\n",
       "      <td>30129</td>\n",
       "      <td>22410</td>\n",
       "      <td>23016</td>\n",
       "      <td>15293</td>\n",
       "      <td>2920</td>\n",
       "      <td>...</td>\n",
       "      <td>0</td>\n",
       "      <td>0</td>\n",
       "      <td>0</td>\n",
       "      <td>2</td>\n",
       "      <td>1</td>\n",
       "      <td>1</td>\n",
       "      <td>0</td>\n",
       "      <td>0</td>\n",
       "      <td>Superior</td>\n",
       "      <td>Other</td>\n",
       "    </tr>\n",
       "  </tbody>\n",
       "</table>\n",
       "<p>5 rows × 62 columns</p>\n",
       "</div>"
      ],
      "text/plain": [
       "      Total Household Income                Region  Total Food Expenditure  \\\n",
       "361                    85409                Caraga                   43050   \n",
       "776                   193723                Caraga                   58865   \n",
       "1191                   24110                Caraga                   12366   \n",
       "1606                  485060      V - Bicol Region                  107805   \n",
       "2021                  458310  VI - Western Visayas                  143524   \n",
       "\n",
       "           Main Source of Income  Agricultural Household indicator  \\\n",
       "361                Wage/Salaries                                 1   \n",
       "776      Other sources of Income                                 0   \n",
       "1191     Other sources of Income                                 0   \n",
       "1606  Enterpreneurial Activities                                 0   \n",
       "2021  Enterpreneurial Activities                                 0   \n",
       "\n",
       "      Bread and Cereals Expenditure  Total Rice Expenditure  Meat Expenditure  \\\n",
       "361                           21858                   14820              4599   \n",
       "776                           22943                   16796              5456   \n",
       "1191                           6925                    6340               370   \n",
       "1606                          10923                    8476              7820   \n",
       "2021                          30129                   22410             23016   \n",
       "\n",
       "      Total Fish and  marine products Expenditure  Fruit Expenditure  ...  \\\n",
       "361                                          6044                410  ...   \n",
       "776                                         11180                400  ...   \n",
       "1191                                         1289                200  ...   \n",
       "1606                                         2848               2845  ...   \n",
       "2021                                        15293               2920  ...   \n",
       "\n",
       "      Number of Airconditioner  Number of Car, Jeep, Van  \\\n",
       "361                          0                         0   \n",
       "776                          0                         1   \n",
       "1191                         0                         0   \n",
       "1606                         1                         0   \n",
       "2021                         0                         0   \n",
       "\n",
       "      Number of Landline/wireless telephones  Number of Cellular phone  \\\n",
       "361                                        0                         1   \n",
       "776                                        0                         2   \n",
       "1191                                       0                         0   \n",
       "1606                                       0                         2   \n",
       "2021                                       0                         2   \n",
       "\n",
       "      Number of Personal Computer  Number of Stove with Oven/Gas Range  \\\n",
       "361                             0                                    0   \n",
       "776                             0                                    0   \n",
       "1191                            0                                    0   \n",
       "1606                            0                                    0   \n",
       "2021                            1                                    1   \n",
       "\n",
       "      Number of Motorized Banca  Number of Motorcycle/Tricycle  Schoolarship  \\\n",
       "361                           0                              0   Fundamental   \n",
       "776                           0                              0   Fundamental   \n",
       "1191                          0                              0         Medio   \n",
       "1606                          0                              0         Medio   \n",
       "2021                          0                              0      Superior   \n",
       "\n",
       "      Income Source  \n",
       "361          Salary  \n",
       "776           Other  \n",
       "1191          Other  \n",
       "1606          Other  \n",
       "2021          Other  \n",
       "\n",
       "[5 rows x 62 columns]"
      ]
     },
     "execution_count": 38,
     "metadata": {},
     "output_type": "execute_result"
    }
   ],
   "source": [
    "df = amostra_sistematica(arq,100)\n",
    "df.head()"
   ]
  },
  {
   "cell_type": "markdown",
   "metadata": {},
   "source": [
    "### - Análise descritiva de 10 variáveis quantitativas:"
   ]
  },
  {
   "cell_type": "code",
   "execution_count": 14,
   "metadata": {},
   "outputs": [],
   "source": [
    "df_01 = df[['Total Household Income', \n",
    "            'Total Food Expenditure', \n",
    "            'Education Expenditure', \n",
    "            'Housing and water Expenditure', \n",
    "            'Medical Care Expenditure', \n",
    "            'Transportation Expenditure', \n",
    "            'Clothing, Footwear and Other Wear Expenditure', \n",
    "            'Total Income from Entrepreneurial Acitivites', \n",
    "            'Total Number of Family members', \n",
    "            'Total number of family members employed']]"
   ]
  },
  {
   "cell_type": "code",
   "execution_count": 39,
   "metadata": {
    "scrolled": true
   },
   "outputs": [
    {
     "data": {
      "text/html": [
       "<div>\n",
       "<style scoped>\n",
       "    .dataframe tbody tr th:only-of-type {\n",
       "        vertical-align: middle;\n",
       "    }\n",
       "\n",
       "    .dataframe tbody tr th {\n",
       "        vertical-align: top;\n",
       "    }\n",
       "\n",
       "    .dataframe thead th {\n",
       "        text-align: right;\n",
       "    }\n",
       "</style>\n",
       "<table border=\"1\" class=\"dataframe\">\n",
       "  <thead>\n",
       "    <tr style=\"text-align: right;\">\n",
       "      <th></th>\n",
       "      <th>count</th>\n",
       "      <th>mean</th>\n",
       "      <th>std</th>\n",
       "      <th>min</th>\n",
       "      <th>25%</th>\n",
       "      <th>50%</th>\n",
       "      <th>75%</th>\n",
       "      <th>max</th>\n",
       "    </tr>\n",
       "  </thead>\n",
       "  <tbody>\n",
       "    <tr>\n",
       "      <th>Total Household Income</th>\n",
       "      <td>100.0</td>\n",
       "      <td>296354.35</td>\n",
       "      <td>312468.483645</td>\n",
       "      <td>25611.0</td>\n",
       "      <td>117831.5</td>\n",
       "      <td>190057.0</td>\n",
       "      <td>329725.00</td>\n",
       "      <td>1863718.0</td>\n",
       "    </tr>\n",
       "    <tr>\n",
       "      <th>Total Food Expenditure</th>\n",
       "      <td>100.0</td>\n",
       "      <td>90416.26</td>\n",
       "      <td>50313.684297</td>\n",
       "      <td>10773.0</td>\n",
       "      <td>49647.5</td>\n",
       "      <td>83040.0</td>\n",
       "      <td>126038.50</td>\n",
       "      <td>246542.0</td>\n",
       "    </tr>\n",
       "    <tr>\n",
       "      <th>Education Expenditure</th>\n",
       "      <td>100.0</td>\n",
       "      <td>8301.70</td>\n",
       "      <td>16897.971793</td>\n",
       "      <td>0.0</td>\n",
       "      <td>0.0</td>\n",
       "      <td>1125.0</td>\n",
       "      <td>4666.25</td>\n",
       "      <td>82445.0</td>\n",
       "    </tr>\n",
       "    <tr>\n",
       "      <th>Housing and water Expenditure</th>\n",
       "      <td>100.0</td>\n",
       "      <td>46460.76</td>\n",
       "      <td>54029.432541</td>\n",
       "      <td>3978.0</td>\n",
       "      <td>13714.5</td>\n",
       "      <td>25752.0</td>\n",
       "      <td>52539.00</td>\n",
       "      <td>291450.0</td>\n",
       "    </tr>\n",
       "    <tr>\n",
       "      <th>Medical Care Expenditure</th>\n",
       "      <td>100.0</td>\n",
       "      <td>10695.28</td>\n",
       "      <td>39875.185432</td>\n",
       "      <td>0.0</td>\n",
       "      <td>332.0</td>\n",
       "      <td>1138.0</td>\n",
       "      <td>5808.00</td>\n",
       "      <td>372070.0</td>\n",
       "    </tr>\n",
       "    <tr>\n",
       "      <th>Transportation Expenditure</th>\n",
       "      <td>100.0</td>\n",
       "      <td>16097.28</td>\n",
       "      <td>21450.889251</td>\n",
       "      <td>0.0</td>\n",
       "      <td>3118.5</td>\n",
       "      <td>9336.0</td>\n",
       "      <td>19698.00</td>\n",
       "      <td>125388.0</td>\n",
       "    </tr>\n",
       "    <tr>\n",
       "      <th>Clothing, Footwear and Other Wear Expenditure</th>\n",
       "      <td>100.0</td>\n",
       "      <td>6158.39</td>\n",
       "      <td>8265.636670</td>\n",
       "      <td>0.0</td>\n",
       "      <td>1458.5</td>\n",
       "      <td>3382.5</td>\n",
       "      <td>8681.25</td>\n",
       "      <td>57850.0</td>\n",
       "    </tr>\n",
       "    <tr>\n",
       "      <th>Total Income from Entrepreneurial Acitivites</th>\n",
       "      <td>100.0</td>\n",
       "      <td>71120.68</td>\n",
       "      <td>151857.920514</td>\n",
       "      <td>0.0</td>\n",
       "      <td>0.0</td>\n",
       "      <td>22189.0</td>\n",
       "      <td>64217.50</td>\n",
       "      <td>1169996.0</td>\n",
       "    </tr>\n",
       "    <tr>\n",
       "      <th>Total Number of Family members</th>\n",
       "      <td>100.0</td>\n",
       "      <td>4.86</td>\n",
       "      <td>2.494519</td>\n",
       "      <td>1.0</td>\n",
       "      <td>3.0</td>\n",
       "      <td>5.0</td>\n",
       "      <td>6.00</td>\n",
       "      <td>13.0</td>\n",
       "    </tr>\n",
       "    <tr>\n",
       "      <th>Total number of family members employed</th>\n",
       "      <td>100.0</td>\n",
       "      <td>1.38</td>\n",
       "      <td>1.308712</td>\n",
       "      <td>0.0</td>\n",
       "      <td>1.0</td>\n",
       "      <td>1.0</td>\n",
       "      <td>2.00</td>\n",
       "      <td>7.0</td>\n",
       "    </tr>\n",
       "  </tbody>\n",
       "</table>\n",
       "</div>"
      ],
      "text/plain": [
       "                                               count       mean  \\\n",
       "Total Household Income                         100.0  296354.35   \n",
       "Total Food Expenditure                         100.0   90416.26   \n",
       "Education Expenditure                          100.0    8301.70   \n",
       "Housing and water Expenditure                  100.0   46460.76   \n",
       "Medical Care Expenditure                       100.0   10695.28   \n",
       "Transportation Expenditure                     100.0   16097.28   \n",
       "Clothing, Footwear and Other Wear Expenditure  100.0    6158.39   \n",
       "Total Income from Entrepreneurial Acitivites   100.0   71120.68   \n",
       "Total Number of Family members                 100.0       4.86   \n",
       "Total number of family members employed        100.0       1.38   \n",
       "\n",
       "                                                         std      min  \\\n",
       "Total Household Income                         312468.483645  25611.0   \n",
       "Total Food Expenditure                          50313.684297  10773.0   \n",
       "Education Expenditure                           16897.971793      0.0   \n",
       "Housing and water Expenditure                   54029.432541   3978.0   \n",
       "Medical Care Expenditure                        39875.185432      0.0   \n",
       "Transportation Expenditure                      21450.889251      0.0   \n",
       "Clothing, Footwear and Other Wear Expenditure    8265.636670      0.0   \n",
       "Total Income from Entrepreneurial Acitivites   151857.920514      0.0   \n",
       "Total Number of Family members                      2.494519      1.0   \n",
       "Total number of family members employed             1.308712      0.0   \n",
       "\n",
       "                                                    25%       50%        75%  \\\n",
       "Total Household Income                         117831.5  190057.0  329725.00   \n",
       "Total Food Expenditure                          49647.5   83040.0  126038.50   \n",
       "Education Expenditure                               0.0    1125.0    4666.25   \n",
       "Housing and water Expenditure                   13714.5   25752.0   52539.00   \n",
       "Medical Care Expenditure                          332.0    1138.0    5808.00   \n",
       "Transportation Expenditure                       3118.5    9336.0   19698.00   \n",
       "Clothing, Footwear and Other Wear Expenditure    1458.5    3382.5    8681.25   \n",
       "Total Income from Entrepreneurial Acitivites        0.0   22189.0   64217.50   \n",
       "Total Number of Family members                      3.0       5.0       6.00   \n",
       "Total number of family members employed             1.0       1.0       2.00   \n",
       "\n",
       "                                                     max  \n",
       "Total Household Income                         1863718.0  \n",
       "Total Food Expenditure                          246542.0  \n",
       "Education Expenditure                            82445.0  \n",
       "Housing and water Expenditure                   291450.0  \n",
       "Medical Care Expenditure                        372070.0  \n",
       "Transportation Expenditure                      125388.0  \n",
       "Clothing, Footwear and Other Wear Expenditure    57850.0  \n",
       "Total Income from Entrepreneurial Acitivites   1169996.0  \n",
       "Total Number of Family members                      13.0  \n",
       "Total number of family members employed              7.0  "
      ]
     },
     "execution_count": 39,
     "metadata": {},
     "output_type": "execute_result"
    }
   ],
   "source": [
    "df_01.describe().T"
   ]
  },
  {
   "cell_type": "code",
   "execution_count": 167,
   "metadata": {
    "scrolled": false
   },
   "outputs": [
    {
     "data": {
      "image/png": "[encoded data removed]",
      "text/plain": [
       "<Figure size 432x288 with 1 Axes>"
      ]
     },
     "metadata": {
      "needs_background": "light"
     },
     "output_type": "display_data"
    },
    {
     "data": {
      "image/png": "[encoded data removed]",
      "text/plain": [
       "<Figure size 432x288 with 1 Axes>"
      ]
     },
     "metadata": {
      "needs_background": "light"
     },
     "output_type": "display_data"
    },
    {
     "data": {
      "image/png": "[encoded data removed]",
      "text/plain": [
       "<Figure size 432x288 with 1 Axes>"
      ]
     },
     "metadata": {
      "needs_background": "light"
     },
     "output_type": "display_data"
    },
    {
     "data": {
      "image/png": "[encoded data removed]",
      "text/plain": [
       "<Figure size 432x288 with 1 Axes>"
      ]
     },
     "metadata": {
      "needs_background": "light"
     },
     "output_type": "display_data"
    },
    {
     "data": {
      "image/png": "[encoded data removed]",
      "text/plain": [
       "<Figure size 432x288 with 1 Axes>"
      ]
     },
     "metadata": {
      "needs_background": "light"
     },
     "output_type": "display_data"
    },
    {
     "data": {
      "image/png": "[encoded data removed]",
      "text/plain": [
       "<Figure size 432x288 with 1 Axes>"
      ]
     },
     "metadata": {
      "needs_background": "light"
     },
     "output_type": "display_data"
    },
    {
     "data": {
      "image/png": "[encoded data removed]",
      "text/plain": [
       "<Figure size 432x288 with 1 Axes>"
      ]
     },
     "metadata": {
      "needs_background": "light"
     },
     "output_type": "display_data"
    },
    {
     "data": {
      "image/png": "[encoded data removed]",
      "text/plain": [
       "<Figure size 432x288 with 1 Axes>"
      ]
     },
     "metadata": {
      "needs_background": "light"
     },
     "output_type": "display_data"
    },
    {
     "data": {
      "image/png": "[encoded data removed]",
      "text/plain": [
       "<Figure size 432x288 with 1 Axes>"
      ]
     },
     "metadata": {
      "needs_background": "light"
     },
     "output_type": "display_data"
    },
    {
     "data": {
      "image/png": "[encoded data removed]",
      "text/plain": [
       "<Figure size 432x288 with 1 Axes>"
      ]
     },
     "metadata": {
      "needs_background": "light"
     },
     "output_type": "display_data"
    }
   ],
   "source": [
    "for i in df_01.columns:\n",
    "    fig, ax = plt.subplots()\n",
    "    if i == 'Total Household Income':\n",
    "        ax.hist(df[i]/1000000, bins=15)\n",
    "        ax.set_xlabel('Millions of Pesos')\n",
    "    elif i == 'Total Number of Family members' or i == 'Total number of family members employed':\n",
    "        ax.hist(df[i], bins=15)\n",
    "        ax.set_xlabel('Family Members')\n",
    "    else:\n",
    "        ax.hist(df[i], bins=15)\n",
    "        ax.set_xlabel('Pesos')\n",
    "       \n",
    "    ax.set_title(i)\n",
    "    ax.set_ylabel('Count')\n",
    "\n",
    "    plt.show()"
   ]
  },
  {
   "cell_type": "markdown",
   "metadata": {},
   "source": [
    " ##  ==============      MILESTONE 02      ============== "
   ]
  },
  {
   "cell_type": "markdown",
   "metadata": {},
   "source": [
    "### - Calcule com 95 % de confiança a média de dinheiro gasto com saúde e educação."
   ]
  },
  {
   "cell_type": "markdown",
   "metadata": {},
   "source": [
    "-----  SAÚDE  -----"
   ]
  },
  {
   "cell_type": "code",
   "execution_count": 40,
   "metadata": {},
   "outputs": [
    {
     "data": {
      "text/plain": [
       "(5066.2, 9117.953030957518)"
      ]
     },
     "execution_count": 40,
     "metadata": {},
     "output_type": "execute_result"
    }
   ],
   "source": [
    "mean_saude = df['Medical Care Expenditure'].mean()\n",
    "std_saude = df['Medical Care Expenditure'].std()\n",
    "\n",
    "mean_saude, std_saude"
   ]
  },
  {
   "cell_type": "code",
   "execution_count": 41,
   "metadata": {},
   "outputs": [
    {
     "data": {
      "text/plain": [
       "(3279.1140446595437, 6853.285955340456)"
      ]
     },
     "execution_count": 41,
     "metadata": {},
     "output_type": "execute_result"
    }
   ],
   "source": [
    "norm.ppf(0.025,mean_saude,std_saude/10), norm.ppf(0.975,mean_saude,std_saude/10)"
   ]
  },
  {
   "cell_type": "markdown",
   "metadata": {},
   "source": [
    "a média se encontra entre os valores acima"
   ]
  },
  {
   "cell_type": "code",
   "execution_count": 42,
   "metadata": {},
   "outputs": [
    {
     "data": {
      "image/png": "[encoded data removed]",
      "text/plain": [
       "<Figure size 432x288 with 1 Axes>"
      ]
     },
     "metadata": {
      "needs_background": "light"
     },
     "output_type": "display_data"
    }
   ],
   "source": [
    "fig, ax = plt.subplots()\n",
    "x = np.arange(0, norm.ppf(0.975,mean_saude,std_saude/10) + 8000, 0.01)\n",
    "ax.plot(x, norm.pdf(x,mean_saude,std_saude/10))\n",
    "ax.set_title('Mean Medical Care Expenditure')\n",
    "ax.set_xlabel('Medical Care Expenditure')\n",
    "ax.set_ylabel('pdf(x)')\n",
    "ax.grid(True)\n",
    "\n",
    "px=np.arange(norm.ppf(0.025,mean_saude,std_saude/10),norm.ppf(0.975,mean_saude,std_saude/10))\n",
    "ax.fill_between(px,norm.pdf(px,mean_saude,std_saude/10),alpha=0.5, color='g')\n",
    "\n",
    "plt.show()"
   ]
  },
  {
   "cell_type": "markdown",
   "metadata": {},
   "source": [
    "----- EDUCAÇÃO -----"
   ]
  },
  {
   "cell_type": "code",
   "execution_count": 43,
   "metadata": {},
   "outputs": [
    {
     "data": {
      "text/plain": [
       "(12765.42, 37241.05151662936)"
      ]
     },
     "execution_count": 43,
     "metadata": {},
     "output_type": "execute_result"
    }
   ],
   "source": [
    "mean_educacao = df['Education Expenditure'].mean()\n",
    "std_educacao = df['Education Expenditure'].std()\n",
    "\n",
    "mean_educacao, std_educacao"
   ]
  },
  {
   "cell_type": "code",
   "execution_count": 44,
   "metadata": {},
   "outputs": [
    {
     "data": {
      "text/plain": [
       "(5466.308028100568, 20064.531971899432)"
      ]
     },
     "execution_count": 44,
     "metadata": {},
     "output_type": "execute_result"
    }
   ],
   "source": [
    "norm.ppf(0.025, mean_educacao, std_educacao/10), norm.ppf(0.975, mean_educacao, std_educacao/10)"
   ]
  },
  {
   "cell_type": "markdown",
   "metadata": {},
   "source": [
    "a média se encontra entre os valores acima"
   ]
  },
  {
   "cell_type": "code",
   "execution_count": 46,
   "metadata": {},
   "outputs": [
    {
     "data": {
      "image/png": "[encoded data removed]",
      "text/plain": [
       "<Figure size 432x288 with 1 Axes>"
      ]
     },
     "metadata": {
      "needs_background": "light"
     },
     "output_type": "display_data"
    }
   ],
   "source": [
    "fig, ax = plt.subplots()\n",
    "x = np.arange(0,norm.ppf(0.975, mean_educacao, std_educacao/10) + 6000, 0.01)\n",
    "ax.plot(x, norm.pdf(x, mean_educacao, std_educacao/10))\n",
    "ax.set_title('Mean Education Expenditure')\n",
    "ax.set_xlabel('Education Expenditure')\n",
    "ax.set_ylabel('pdf(x)')\n",
    "ax.grid(True)\n",
    "\n",
    "px=np.arange(norm.ppf(0.025, mean_educacao, std_educacao/10), norm.ppf(0.975, mean_educacao, std_educacao/10))\n",
    "ax.fill_between(px,norm.pdf(px,mean_educacao,std_educacao/10),alpha=0.5, color='g')\n",
    "\n",
    "plt.show()"
   ]
  },
  {
   "cell_type": "markdown",
   "metadata": {},
   "source": [
    "### - Calcule se há diferença na média do número de membros de uma família pelo sexo do chefe de família, com 95 % de confiança."
   ]
  },
  {
   "cell_type": "code",
   "execution_count": 47,
   "metadata": {},
   "outputs": [],
   "source": [
    "df_male = df[df['Household Head Sex']== 'Male']['Total Number of Family members']\n",
    "df_female = df[df['Household Head Sex']== 'Female']['Total Number of Family members']"
   ]
  },
  {
   "cell_type": "code",
   "execution_count": 48,
   "metadata": {},
   "outputs": [
    {
     "data": {
      "image/png": "[encoded data removed]",
      "text/plain": [
       "<Figure size 432x288 with 1 Axes>"
      ]
     },
     "metadata": {
      "needs_background": "light"
     },
     "output_type": "display_data"
    }
   ],
   "source": [
    "fig, ax = plt.subplots()\n",
    "x = np.arange(1, 7, 0.01)\n",
    "\n",
    "plt.plot(x, norm.pdf(x, df_male.mean(), df_male.mean()/np.sqrt(len(df_male))), label='Male')\n",
    "\n",
    "plt.plot(x, norm.pdf(x, df_female.mean(), df_female.mean()/np.sqrt(len(df_female))), label='Female')\n",
    "\n",
    "ax.set_title('Number of Family members per Household sex')\n",
    "ax.set_xlabel('Number of Family members')\n",
    "ax.set_ylabel('pdf(x)')\n",
    "\n",
    "ax.legend()\n",
    "\n",
    "\n",
    "plt.show()"
   ]
  },
  {
   "cell_type": "markdown",
   "metadata": {},
   "source": [
    "1º PASSO - Analisando as variâncias das amostras"
   ]
  },
  {
   "cell_type": "markdown",
   "metadata": {},
   "source": [
    "H_0 - amostras de mesma variâncias\n",
    "\n",
    "H_1 - amostras de variâncias diferentes\n",
    "\n",
    "intervalo de confiança de 95% "
   ]
  },
  {
   "cell_type": "code",
   "execution_count": 100,
   "metadata": {},
   "outputs": [
    {
     "data": {
      "text/plain": [
       "1.1460714083813184"
      ]
     },
     "execution_count": 100,
     "metadata": {},
     "output_type": "execute_result"
    }
   ],
   "source": [
    "w = (df_male.var()/df_female.var())\n",
    "w"
   ]
  },
  {
   "cell_type": "code",
   "execution_count": 50,
   "metadata": {},
   "outputs": [
    {
     "data": {
      "image/png": "[encoded data removed]",
      "text/plain": [
       "<Figure size 432x288 with 1 Axes>"
      ]
     },
     "metadata": {
      "needs_background": "light"
     },
     "output_type": "display_data"
    }
   ],
   "source": [
    "x = np.arange(0.1, 3, 0.01)\n",
    "plt.plot(x, f.pdf(x, len(df_male) - 1, len(df_female) - 1))\n",
    "plt.show()"
   ]
  },
  {
   "cell_type": "code",
   "execution_count": 101,
   "metadata": {},
   "outputs": [
    {
     "data": {
      "text/plain": [
       "0.37157188861849555"
      ]
     },
     "execution_count": 101,
     "metadata": {},
     "output_type": "execute_result"
    }
   ],
   "source": [
    "1 - f.cdf(w, len(df_male) - 1, len(df_female) - 1)"
   ]
  },
  {
   "cell_type": "markdown",
   "metadata": {},
   "source": [
    "como pvalor > que 0.025 não rejeitamos a hipótese nula  --> amostras de variâncias semelhantes"
   ]
  },
  {
   "cell_type": "markdown",
   "metadata": {},
   "source": [
    "2º PASSO - Analisando as médias "
   ]
  },
  {
   "cell_type": "markdown",
   "metadata": {},
   "source": [
    "H_0 - amostras de mesma média (mesma população)\n",
    "\n",
    "H_1 - amostras de médias diferentes (populações diferentes)\n",
    "\n",
    "intervalo de confiança de 95% "
   ]
  },
  {
   "cell_type": "code",
   "execution_count": 57,
   "metadata": {},
   "outputs": [],
   "source": [
    "xa = df_male.mean()\n",
    "Sa = df_male.std()\n",
    "n = len(df_male)\n",
    "\n",
    "xb = df_female.mean()\n",
    "Sb = df_female.std()\n",
    "m = len(df_female)"
   ]
  },
  {
   "cell_type": "code",
   "execution_count": 58,
   "metadata": {},
   "outputs": [],
   "source": [
    "# Variâncias Diferentes\n",
    "\n",
    "A = (Sa**2)/n\n",
    "B = (Sb**2)/m\n",
    "\n",
    "dof = ((A + B)**2)/((A**2)/(n-1) + (B**2)/(m-1))\n",
    "\n",
    "x = (xa - xb)/(np.sqrt(A+B))"
   ]
  },
  {
   "cell_type": "code",
   "execution_count": 53,
   "metadata": {},
   "outputs": [],
   "source": [
    "# Variâncias Semelhantes\n",
    "\n",
    "dof = n+m-2\n",
    "Sp = np.sqrt(((n-1)*(Sa)**2 + (m-1)*(Sb)**2)/dof)\n",
    "x = (xa - xb)/(Sp*np.sqrt((1/n)+(1/m)))"
   ]
  },
  {
   "cell_type": "code",
   "execution_count": 72,
   "metadata": {},
   "outputs": [
    {
     "data": {
      "text/plain": [
       "1.5790854867994868"
      ]
     },
     "execution_count": 72,
     "metadata": {},
     "output_type": "execute_result"
    }
   ],
   "source": [
    "x"
   ]
  },
  {
   "cell_type": "code",
   "execution_count": null,
   "metadata": {},
   "outputs": [],
   "source": [
    "tes = np.arange(-3, 3, 0.01)\n",
    "plt.plot(tes, t.pdf(tes, dof))\n",
    "plt.show()"
   ]
  },
  {
   "cell_type": "code",
   "execution_count": 73,
   "metadata": {},
   "outputs": [
    {
     "data": {
      "text/plain": [
       "0.122532491510849"
      ]
     },
     "execution_count": 73,
     "metadata": {},
     "output_type": "execute_result"
    }
   ],
   "source": [
    "1-t.cdf(x, dof)"
   ]
  },
  {
   "cell_type": "markdown",
   "metadata": {},
   "source": [
    "como pvalor > que 0.025 não rejeitamos a hipótese nula --> amostras de médias semelhantes"
   ]
  },
  {
   "cell_type": "markdown",
   "metadata": {},
   "source": [
    "#### -----> Não, não há diferença nas médias!"
   ]
  },
  {
   "cell_type": "code",
   "execution_count": 127,
   "metadata": {},
   "outputs": [
    {
     "data": {
      "text/plain": [
       "Ttest_indResult(statistic=1.5215245470360008, pvalue=0.13134842935239333)"
      ]
     },
     "execution_count": 127,
     "metadata": {},
     "output_type": "execute_result"
    }
   ],
   "source": [
    "# conferindo... os resultados são os mesmos, mas o pvalor chega próximo (0.12 - 0.13)\n",
    "ttest_ind(df_male, df_female)"
   ]
  },
  {
   "cell_type": "markdown",
   "metadata": {},
   "source": [
    "### - Calcule se há diferença na média total de renda da família (total household Income) de acordo com a fonte salarial (main source of income)."
   ]
  },
  {
   "cell_type": "code",
   "execution_count": 76,
   "metadata": {},
   "outputs": [],
   "source": [
    "df_salario = df[df['Income Source'] == 'Salary']['Total Household Income']\n",
    "df_outro = df[df['Income Source'] == 'Other']['Total Household Income']"
   ]
  },
  {
   "cell_type": "code",
   "execution_count": 102,
   "metadata": {},
   "outputs": [
    {
     "data": {
      "text/plain": [
       "(370927.0930232558, 222358.57894736843, 359609.64243566303, 163944.57040697226)"
      ]
     },
     "execution_count": 102,
     "metadata": {},
     "output_type": "execute_result"
    }
   ],
   "source": [
    "xa = df_salario.mean()\n",
    "Sa = df_salario.std()\n",
    "n = len(df_salario)\n",
    "\n",
    "xb = df_outro.mean()\n",
    "Sb = df_outro.std()\n",
    "m = len(df_outro)\n",
    "\n",
    "xa, xb, Sa, Sb"
   ]
  },
  {
   "cell_type": "code",
   "execution_count": 103,
   "metadata": {
    "scrolled": true
   },
   "outputs": [
    {
     "data": {
      "image/png": "[encoded data removed]",
      "text/plain": [
       "<Figure size 432x288 with 1 Axes>"
      ]
     },
     "metadata": {
      "needs_background": "light"
     },
     "output_type": "display_data"
    }
   ],
   "source": [
    "fig, ax = plt.subplots()\n",
    "x = np.arange(100000, 600000, 10)\n",
    "y1 = norm.pdf(x, xa, Sa/np.sqrt(n))\n",
    "y2 = norm.pdf(x, xb, Sb/np.sqrt(m))\n",
    "\n",
    "plt.plot(x, y1, label='Salary')\n",
    "plt.plot(x, y2, label='Other')\n",
    "\n",
    "#ax.set_title('Total Household Income')\n",
    "ax.set_xlabel('Total Household Income')\n",
    "ax.set_ylabel('pdf(x)')\n",
    "\n",
    "plt.legend()\n",
    "\n",
    "plt.show()"
   ]
  },
  {
   "cell_type": "markdown",
   "metadata": {},
   "source": [
    "1º PASSO - Analisando as variâncias das amostras"
   ]
  },
  {
   "cell_type": "markdown",
   "metadata": {},
   "source": [
    "H_0 - amostras de mesma variâncias\n",
    "\n",
    "H_1 - amostras de variâncias diferentes\n",
    "\n",
    "intervalo de confiança de 95% "
   ]
  },
  {
   "cell_type": "code",
   "execution_count": 104,
   "metadata": {},
   "outputs": [
    {
     "data": {
      "text/plain": [
       "4.811368054091997"
      ]
     },
     "execution_count": 104,
     "metadata": {},
     "output_type": "execute_result"
    }
   ],
   "source": [
    "w = (Sa**2)/(Sb**2)\n",
    "w"
   ]
  },
  {
   "cell_type": "code",
   "execution_count": 113,
   "metadata": {},
   "outputs": [
    {
     "data": {
      "text/plain": [
       "1.7521456961887294"
      ]
     },
     "execution_count": 113,
     "metadata": {},
     "output_type": "execute_result"
    }
   ],
   "source": [
    "# região crítica valor maior que 1.75\n",
    "rc = f.ppf(0.975, n-1, m-1)\n",
    "rc"
   ]
  },
  {
   "cell_type": "code",
   "execution_count": 120,
   "metadata": {},
   "outputs": [
    {
     "data": {
      "image/png": "[encoded data removed]",
      "text/plain": [
       "<Figure size 432x288 with 1 Axes>"
      ]
     },
     "metadata": {
      "needs_background": "light"
     },
     "output_type": "display_data"
    }
   ],
   "source": [
    "x = np.arange(0,2.5, 0.01)\n",
    "plt.plot(x, f.pdf(x, n-1, m-1))\n",
    "plt.fill_between(np.arange(rc,2.5, 0.01), f.pdf(np.arange(rc,2.5, 0.01), n-1, m-1),alpha=0.7, color='r')\n",
    "plt.show()"
   ]
  },
  {
   "cell_type": "code",
   "execution_count": 121,
   "metadata": {},
   "outputs": [
    {
     "data": {
      "text/plain": [
       "4.069220504998583e-08"
      ]
     },
     "execution_count": 121,
     "metadata": {},
     "output_type": "execute_result"
    }
   ],
   "source": [
    "1 - f.cdf(w, n-1, m-1) # p_valor < que 0.025  --> descartamos H_o"
   ]
  },
  {
   "cell_type": "markdown",
   "metadata": {},
   "source": [
    "como pvalor < que 0.025 rejeitamos a hipótese nula  --> são amostras de variâncias diferentes"
   ]
  },
  {
   "cell_type": "markdown",
   "metadata": {},
   "source": [
    "2º PASSO - Analisando as médias "
   ]
  },
  {
   "cell_type": "markdown",
   "metadata": {},
   "source": [
    "H_0 - amostras de mesma média (mesma população)\n",
    "\n",
    "H_1 - amostras de médias diferentes (populações diferentes)\n",
    "\n",
    "intervalo de confiança de 95% "
   ]
  },
  {
   "cell_type": "code",
   "execution_count": 122,
   "metadata": {},
   "outputs": [],
   "source": [
    "# Variâncias Diferentes\n",
    "\n",
    "A = (Sa**2)/n\n",
    "B = (Sb**2)/m\n",
    "\n",
    "dof = ((A + B)**2)/((A**2)/(n-1) + (B**2)/(m-1))\n",
    "\n",
    "x = (xa - xb)/(np.sqrt(A+B))"
   ]
  },
  {
   "cell_type": "code",
   "execution_count": 124,
   "metadata": {},
   "outputs": [
    {
     "data": {
      "text/plain": [
       "0.007350481708657486"
      ]
     },
     "execution_count": 124,
     "metadata": {},
     "output_type": "execute_result"
    }
   ],
   "source": [
    "1 - t.cdf(x, dof) # p-valor < 0.025 --> Descartamos H_o"
   ]
  },
  {
   "cell_type": "markdown",
   "metadata": {},
   "source": [
    "como pvalor < que 0.025 rejeitamos a hipótese nula  --> amostras de médias diferentes"
   ]
  },
  {
   "cell_type": "markdown",
   "metadata": {},
   "source": [
    "#### -----> Sim, há diferença nas médias!"
   ]
  },
  {
   "cell_type": "code",
   "execution_count": 128,
   "metadata": {},
   "outputs": [
    {
     "data": {
      "text/plain": [
       "Ttest_indResult(statistic=2.7646451654058457, pvalue=0.00680917134532685)"
      ]
     },
     "execution_count": 128,
     "metadata": {},
     "output_type": "execute_result"
    }
   ],
   "source": [
    "# Comparando\n",
    "ttest_ind(df_salario, df_outro)"
   ]
  },
  {
   "cell_type": "markdown",
   "metadata": {},
   "source": [
    " ##  ==============      MILESTONE 03      ============== "
   ]
  },
  {
   "cell_type": "markdown",
   "metadata": {},
   "source": [
    "### - Diga se há relação entre os indicadores entre o chefe de família estar empregado ou não com a escolaridade."
   ]
  },
  {
   "cell_type": "code",
   "execution_count": 134,
   "metadata": {},
   "outputs": [
    {
     "name": "stdout",
     "output_type": "stream",
     "text": [
      "Schoolarship                              Fundamental  Medio  Superior\n",
      "Household Head Job or Business Indicator                              \n",
      "No Job/Business                                    10      4         6\n",
      "With Job/Business                                  29     27        24\n"
     ]
    }
   ],
   "source": [
    "tab = pd.crosstab(df['Household Head Job or Business Indicator'], df['Schoolarship'])\n",
    "print(tab)"
   ]
  },
  {
   "cell_type": "code",
   "execution_count": 137,
   "metadata": {},
   "outputs": [],
   "source": [
    "corr = np.array([[10, 4, 6],[29 , 27, 24]])"
   ]
  },
  {
   "cell_type": "code",
   "execution_count": 141,
   "metadata": {},
   "outputs": [],
   "source": [
    "stats, pvalor, dof, exp = chi2_contingency(corr)"
   ]
  },
  {
   "cell_type": "code",
   "execution_count": 143,
   "metadata": {},
   "outputs": [
    {
     "data": {
      "text/plain": [
       "array([[ 7.8,  6.2,  6. ],\n",
       "       [31.2, 24.8, 24. ]])"
      ]
     },
     "execution_count": 143,
     "metadata": {},
     "output_type": "execute_result"
    }
   ],
   "source": [
    "exp"
   ]
  },
  {
   "cell_type": "code",
   "execution_count": 142,
   "metadata": {},
   "outputs": [
    {
     "data": {
      "text/plain": [
       "0.41656042968208207"
      ]
     },
     "execution_count": 142,
     "metadata": {},
     "output_type": "execute_result"
    }
   ],
   "source": [
    "pvalor"
   ]
  },
  {
   "cell_type": "markdown",
   "metadata": {},
   "source": [
    "observando o pvalor > 0.05  --> não rejeitamos H_0 e podemos dizer que os indicadores são independentes. \n",
    "\n",
    "então, estar ou não trabalhando não depende do grau de escolaridade. "
   ]
  },
  {
   "cell_type": "markdown",
   "metadata": {},
   "source": [
    "#### -----> Não, não há relação entre os indicadores!"
   ]
  }
 ],
 "metadata": {
  "kernelspec": {
   "display_name": "Python 3",
   "language": "python",
   "name": "python3"
  },
  "language_info": {
   "codemirror_mode": {
    "name": "ipython",
    "version": 3
   },
   "file_extension": ".py",
   "mimetype": "text/x-python",
   "name": "python",
   "nbconvert_exporter": "python",
   "pygments_lexer": "ipython3",
   "version": "3.7.3"
  }
 },
 "nbformat": 4,
 "nbformat_minor": 2
}
