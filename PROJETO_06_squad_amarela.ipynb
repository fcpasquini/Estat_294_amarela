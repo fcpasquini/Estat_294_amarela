{
 "cells": [
  {
   "cell_type": "markdown",
   "metadata": {},
   "source": [
    "# Projeto de estatística - Módulo 6 - Squad Amarelo"
   ]
  },
  {
   "cell_type": "markdown",
   "metadata": {},
   "source": [
    "### Integrantes:\n",
    "### - Daniel Ferreira\n",
    "### - Fabio Cardoso Pasquini\n",
    "### - Renato Nagamine"
   ]
  },
  {
   "cell_type": "code",
   "execution_count": 56,
   "metadata": {},
   "outputs": [],
   "source": [
    "import pandas as pd\n",
    "import numpy as np\n",
    "import matplotlib.pyplot as plt\n",
    "import re\n",
    "from scipy.stats import norm, ttest_ind, f, t, chi2_contingency"
   ]
  },
  {
   "cell_type": "markdown",
   "metadata": {},
   "source": [
    "### ANALISANDO E TRABALHANDO O DATAFRAME"
   ]
  },
  {
   "cell_type": "code",
   "execution_count": 5,
   "metadata": {},
   "outputs": [],
   "source": [
    "arq = pd.read_csv('Family Income and Expenditure.csv')"
   ]
  },
  {
   "cell_type": "code",
   "execution_count": 6,
   "metadata": {
    "collapsed": true,
    "jupyter": {
     "outputs_hidden": true
    },
    "scrolled": true
   },
   "outputs": [
    {
     "data": {
      "text/html": [
       "<div>\n",
       "<style scoped>\n",
       "    .dataframe tbody tr th:only-of-type {\n",
       "        vertical-align: middle;\n",
       "    }\n",
       "\n",
       "    .dataframe tbody tr th {\n",
       "        vertical-align: top;\n",
       "    }\n",
       "\n",
       "    .dataframe thead th {\n",
       "        text-align: right;\n",
       "    }\n",
       "</style>\n",
       "<table border=\"1\" class=\"dataframe\">\n",
       "  <thead>\n",
       "    <tr style=\"text-align: right;\">\n",
       "      <th></th>\n",
       "      <th>Total Household Income</th>\n",
       "      <th>Region</th>\n",
       "      <th>Total Food Expenditure</th>\n",
       "      <th>Main Source of Income</th>\n",
       "      <th>Agricultural Household indicator</th>\n",
       "      <th>Bread and Cereals Expenditure</th>\n",
       "      <th>Total Rice Expenditure</th>\n",
       "      <th>Meat Expenditure</th>\n",
       "      <th>Total Fish and  marine products Expenditure</th>\n",
       "      <th>Fruit Expenditure</th>\n",
       "      <th>...</th>\n",
       "      <th>Number of Refrigerator/Freezer</th>\n",
       "      <th>Number of Washing Machine</th>\n",
       "      <th>Number of Airconditioner</th>\n",
       "      <th>Number of Car, Jeep, Van</th>\n",
       "      <th>Number of Landline/wireless telephones</th>\n",
       "      <th>Number of Cellular phone</th>\n",
       "      <th>Number of Personal Computer</th>\n",
       "      <th>Number of Stove with Oven/Gas Range</th>\n",
       "      <th>Number of Motorized Banca</th>\n",
       "      <th>Number of Motorcycle/Tricycle</th>\n",
       "    </tr>\n",
       "  </thead>\n",
       "  <tbody>\n",
       "    <tr>\n",
       "      <th>0</th>\n",
       "      <td>480332</td>\n",
       "      <td>CAR</td>\n",
       "      <td>117848</td>\n",
       "      <td>Wage/Salaries</td>\n",
       "      <td>0</td>\n",
       "      <td>42140</td>\n",
       "      <td>38300</td>\n",
       "      <td>24676</td>\n",
       "      <td>16806</td>\n",
       "      <td>3325</td>\n",
       "      <td>...</td>\n",
       "      <td>1</td>\n",
       "      <td>1</td>\n",
       "      <td>0</td>\n",
       "      <td>0</td>\n",
       "      <td>0</td>\n",
       "      <td>2</td>\n",
       "      <td>1</td>\n",
       "      <td>0</td>\n",
       "      <td>0</td>\n",
       "      <td>1</td>\n",
       "    </tr>\n",
       "    <tr>\n",
       "      <th>1</th>\n",
       "      <td>198235</td>\n",
       "      <td>CAR</td>\n",
       "      <td>67766</td>\n",
       "      <td>Wage/Salaries</td>\n",
       "      <td>0</td>\n",
       "      <td>17329</td>\n",
       "      <td>13008</td>\n",
       "      <td>17434</td>\n",
       "      <td>11073</td>\n",
       "      <td>2035</td>\n",
       "      <td>...</td>\n",
       "      <td>0</td>\n",
       "      <td>1</td>\n",
       "      <td>0</td>\n",
       "      <td>0</td>\n",
       "      <td>0</td>\n",
       "      <td>3</td>\n",
       "      <td>1</td>\n",
       "      <td>0</td>\n",
       "      <td>0</td>\n",
       "      <td>2</td>\n",
       "    </tr>\n",
       "    <tr>\n",
       "      <th>2</th>\n",
       "      <td>82785</td>\n",
       "      <td>CAR</td>\n",
       "      <td>61609</td>\n",
       "      <td>Wage/Salaries</td>\n",
       "      <td>1</td>\n",
       "      <td>34182</td>\n",
       "      <td>32001</td>\n",
       "      <td>7783</td>\n",
       "      <td>2590</td>\n",
       "      <td>1730</td>\n",
       "      <td>...</td>\n",
       "      <td>0</td>\n",
       "      <td>0</td>\n",
       "      <td>0</td>\n",
       "      <td>0</td>\n",
       "      <td>0</td>\n",
       "      <td>0</td>\n",
       "      <td>0</td>\n",
       "      <td>0</td>\n",
       "      <td>0</td>\n",
       "      <td>0</td>\n",
       "    </tr>\n",
       "    <tr>\n",
       "      <th>3</th>\n",
       "      <td>107589</td>\n",
       "      <td>CAR</td>\n",
       "      <td>78189</td>\n",
       "      <td>Wage/Salaries</td>\n",
       "      <td>0</td>\n",
       "      <td>34030</td>\n",
       "      <td>28659</td>\n",
       "      <td>10914</td>\n",
       "      <td>10812</td>\n",
       "      <td>690</td>\n",
       "      <td>...</td>\n",
       "      <td>0</td>\n",
       "      <td>0</td>\n",
       "      <td>0</td>\n",
       "      <td>0</td>\n",
       "      <td>0</td>\n",
       "      <td>1</td>\n",
       "      <td>0</td>\n",
       "      <td>0</td>\n",
       "      <td>0</td>\n",
       "      <td>0</td>\n",
       "    </tr>\n",
       "    <tr>\n",
       "      <th>4</th>\n",
       "      <td>189322</td>\n",
       "      <td>CAR</td>\n",
       "      <td>94625</td>\n",
       "      <td>Wage/Salaries</td>\n",
       "      <td>0</td>\n",
       "      <td>34820</td>\n",
       "      <td>30167</td>\n",
       "      <td>18391</td>\n",
       "      <td>11309</td>\n",
       "      <td>1395</td>\n",
       "      <td>...</td>\n",
       "      <td>1</td>\n",
       "      <td>0</td>\n",
       "      <td>0</td>\n",
       "      <td>0</td>\n",
       "      <td>0</td>\n",
       "      <td>3</td>\n",
       "      <td>0</td>\n",
       "      <td>0</td>\n",
       "      <td>0</td>\n",
       "      <td>1</td>\n",
       "    </tr>\n",
       "  </tbody>\n",
       "</table>\n",
       "<p>5 rows × 60 columns</p>\n",
       "</div>"
      ],
      "text/plain": [
       "   Total Household Income Region  Total Food Expenditure  \\\n",
       "0                  480332    CAR                  117848   \n",
       "1                  198235    CAR                   67766   \n",
       "2                   82785    CAR                   61609   \n",
       "3                  107589    CAR                   78189   \n",
       "4                  189322    CAR                   94625   \n",
       "\n",
       "  Main Source of Income  Agricultural Household indicator  \\\n",
       "0         Wage/Salaries                                 0   \n",
       "1         Wage/Salaries                                 0   \n",
       "2         Wage/Salaries                                 1   \n",
       "3         Wage/Salaries                                 0   \n",
       "4         Wage/Salaries                                 0   \n",
       "\n",
       "   Bread and Cereals Expenditure  Total Rice Expenditure  Meat Expenditure  \\\n",
       "0                          42140                   38300             24676   \n",
       "1                          17329                   13008             17434   \n",
       "2                          34182                   32001              7783   \n",
       "3                          34030                   28659             10914   \n",
       "4                          34820                   30167             18391   \n",
       "\n",
       "   Total Fish and  marine products Expenditure  Fruit Expenditure  ...  \\\n",
       "0                                        16806               3325  ...   \n",
       "1                                        11073               2035  ...   \n",
       "2                                         2590               1730  ...   \n",
       "3                                        10812                690  ...   \n",
       "4                                        11309               1395  ...   \n",
       "\n",
       "   Number of Refrigerator/Freezer  Number of Washing Machine  \\\n",
       "0                               1                          1   \n",
       "1                               0                          1   \n",
       "2                               0                          0   \n",
       "3                               0                          0   \n",
       "4                               1                          0   \n",
       "\n",
       "   Number of Airconditioner  Number of Car, Jeep, Van  \\\n",
       "0                         0                         0   \n",
       "1                         0                         0   \n",
       "2                         0                         0   \n",
       "3                         0                         0   \n",
       "4                         0                         0   \n",
       "\n",
       "   Number of Landline/wireless telephones  Number of Cellular phone  \\\n",
       "0                                       0                         2   \n",
       "1                                       0                         3   \n",
       "2                                       0                         0   \n",
       "3                                       0                         1   \n",
       "4                                       0                         3   \n",
       "\n",
       "   Number of Personal Computer  Number of Stove with Oven/Gas Range  \\\n",
       "0                            1                                    0   \n",
       "1                            1                                    0   \n",
       "2                            0                                    0   \n",
       "3                            0                                    0   \n",
       "4                            0                                    0   \n",
       "\n",
       "   Number of Motorized Banca  Number of Motorcycle/Tricycle  \n",
       "0                          0                              1  \n",
       "1                          0                              2  \n",
       "2                          0                              0  \n",
       "3                          0                              0  \n",
       "4                          0                              1  \n",
       "\n",
       "[5 rows x 60 columns]"
      ]
     },
     "execution_count": 6,
     "metadata": {},
     "output_type": "execute_result"
    }
   ],
   "source": [
    "arq.head()"
   ]
  },
  {
   "cell_type": "code",
   "execution_count": 7,
   "metadata": {
    "collapsed": true,
    "jupyter": {
     "outputs_hidden": true
    }
   },
   "outputs": [
    {
     "data": {
      "text/plain": [
       "(41544, 60)"
      ]
     },
     "execution_count": 7,
     "metadata": {},
     "output_type": "execute_result"
    }
   ],
   "source": [
    "arq.shape"
   ]
  },
  {
   "cell_type": "code",
   "execution_count": 8,
   "metadata": {
    "collapsed": true,
    "jupyter": {
     "outputs_hidden": true
    }
   },
   "outputs": [
    {
     "name": "stdout",
     "output_type": "stream",
     "text": [
      "Total Household Income\n",
      "Region\n",
      "Total Food Expenditure\n",
      "Main Source of Income\n",
      "Agricultural Household indicator\n",
      "Bread and Cereals Expenditure\n",
      "Total Rice Expenditure\n",
      "Meat Expenditure\n",
      "Total Fish and  marine products Expenditure\n",
      "Fruit Expenditure\n",
      "Vegetables Expenditure\n",
      "Restaurant and hotels Expenditure\n",
      "Alcoholic Beverages Expenditure\n",
      "Tobacco Expenditure\n",
      "Clothing, Footwear and Other Wear Expenditure\n",
      "Housing and water Expenditure\n",
      "Imputed House Rental Value\n",
      "Medical Care Expenditure\n",
      "Transportation Expenditure\n",
      "Communication Expenditure\n",
      "Education Expenditure\n",
      "Miscellaneous Goods and Services Expenditure\n",
      "Special Occasions Expenditure\n",
      "Crop Farming and Gardening expenses\n",
      "Total Income from Entrepreneurial Acitivites\n",
      "Household Head Sex\n",
      "Household Head Age\n",
      "Household Head Marital Status\n",
      "Household Head Highest Grade Completed\n",
      "Household Head Job or Business Indicator\n",
      "Household Head Occupation\n",
      "Household Head Class of Worker\n",
      "Type of Household\n",
      "Total Number of Family members\n",
      "Members with age less than 5 year old\n",
      "Members with age 5 - 17 years old\n",
      "Total number of family members employed\n",
      "Type of Building/House\n",
      "Type of Roof\n",
      "Type of Walls\n",
      "House Floor Area\n",
      "House Age\n",
      "Number of bedrooms\n",
      "Tenure Status\n",
      "Toilet Facilities\n",
      "Electricity\n",
      "Main Source of Water Supply\n",
      "Number of Television\n",
      "Number of CD/VCD/DVD\n",
      "Number of Component/Stereo set\n",
      "Number of Refrigerator/Freezer\n",
      "Number of Washing Machine\n",
      "Number of Airconditioner\n",
      "Number of Car, Jeep, Van\n",
      "Number of Landline/wireless telephones\n",
      "Number of Cellular phone\n",
      "Number of Personal Computer\n",
      "Number of Stove with Oven/Gas Range\n",
      "Number of Motorized Banca\n",
      "Number of Motorcycle/Tricycle\n"
     ]
    }
   ],
   "source": [
    "# Colunas do nosso dataframe\n",
    "for i in arq.columns:\n",
    "    print(i)"
   ]
  },
  {
   "cell_type": "code",
   "execution_count": 9,
   "metadata": {
    "collapsed": true,
    "jupyter": {
     "outputs_hidden": true
    }
   },
   "outputs": [
    {
     "data": {
      "text/plain": [
       "array(['CAR', 'Caraga', 'VI - Western Visayas', 'V - Bicol Region',\n",
       "       ' ARMM', 'III - Central Luzon', 'II - Cagayan Valley',\n",
       "       'IVA - CALABARZON', 'VII - Central Visayas',\n",
       "       'X - Northern Mindanao', 'XI - Davao Region',\n",
       "       'VIII - Eastern Visayas', 'I - Ilocos Region', 'NCR',\n",
       "       'IVB - MIMAROPA', 'XII - SOCCSKSARGEN',\n",
       "       'IX - Zasmboanga Peninsula'], dtype=object)"
      ]
     },
     "execution_count": 9,
     "metadata": {},
     "output_type": "execute_result"
    }
   ],
   "source": [
    "# Dataframe organizado por região...\n",
    "arq.Region.unique()"
   ]
  },
  {
   "cell_type": "code",
   "execution_count": 10,
   "metadata": {
    "collapsed": true,
    "jupyter": {
     "outputs_hidden": true
    }
   },
   "outputs": [
    {
     "data": {
      "text/plain": [
       "array(['Wage/Salaries', 'Other sources of Income',\n",
       "       'Enterpreneurial Activities'], dtype=object)"
      ]
     },
     "execution_count": 10,
     "metadata": {},
     "output_type": "execute_result"
    }
   ],
   "source": [
    "arq['Main Source of Income'].unique()"
   ]
  },
  {
   "cell_type": "code",
   "execution_count": 11,
   "metadata": {
    "collapsed": true,
    "jupyter": {
     "outputs_hidden": true
    }
   },
   "outputs": [
    {
     "data": {
      "text/plain": [
       "array(['Teacher Training and Education Sciences Programs',\n",
       "       'Transport Services Programs', 'Grade 3', 'Elementary Graduate',\n",
       "       'Second Year High School', 'Third Year High School',\n",
       "       'Business and Administration Programs', 'First Year College',\n",
       "       'High School Graduate',\n",
       "       'Other Programs in Education at the Third Level, First Stage, of the Type that Leads to an Award not Equivalent to a First University or Baccalaureate Degree',\n",
       "       'Humanities Programs', 'First Year High School', 'Grade 6',\n",
       "       'Grade 4', 'Engineering and Engineering Trades Programs',\n",
       "       'Grade 2', 'Grade 5', 'Social and Behavioral Science Programs',\n",
       "       'Agriculture, Forestry, and Fishery Programs', 'Health Programs',\n",
       "       'Fourth Year College',\n",
       "       'Engineering and Engineering trades Programs',\n",
       "       'Second Year College', 'Third Year College', 'Grade 1',\n",
       "       'No Grade Completed', 'Security Services Programs',\n",
       "       'Basic Programs', 'First Year Post Secondary',\n",
       "       'Second Year Post Secondary', 'Post Baccalaureate',\n",
       "       'Computing/Information Technology Programs',\n",
       "       'Mathematics and Statistics Programs',\n",
       "       'Personal Services Programs', 'Law Programs',\n",
       "       'Journalism and Information Programs',\n",
       "       'Architecture and Building Programs',\n",
       "       'Manufacturing and Processing Programs', 'Life Sciences Programs',\n",
       "       'Other Programs of Education at the Third Level, First Stage, of the Type that Leads to a Baccalaureate or First University/Professional Degree (HIgher Education Level, First Stage, or Collegiate Education Level)',\n",
       "       'Social Services Programs', 'Preschool',\n",
       "       'Physical Sciences Programs', 'Arts Programs',\n",
       "       'Veterinary Programs', 'Environmental Protection Programs'],\n",
       "      dtype=object)"
      ]
     },
     "execution_count": 11,
     "metadata": {},
     "output_type": "execute_result"
    }
   ],
   "source": [
    "arq['Household Head Highest Grade Completed'].unique()"
   ]
  },
  {
   "cell_type": "code",
   "execution_count": 12,
   "metadata": {},
   "outputs": [],
   "source": [
    "# Função para acertar a Escolaridade\n",
    "def escolaridade(i):\n",
    "    for item in ['Programs', 'College', 'Post']:\n",
    "        if item in i:\n",
    "            return 'Superior'\n",
    "    for item in ['High School']:\n",
    "        if item in i:\n",
    "            return 'Medio'\n",
    "    for item in ['Grade', 'Elementary', 'Preschool']:\n",
    "        if item in i:\n",
    "            return 'Fundamental'   "
   ]
  },
  {
   "cell_type": "code",
   "execution_count": 13,
   "metadata": {},
   "outputs": [],
   "source": [
    "# Acertando a escolaridade com a função acima\n",
    "arq['Schoolarship'] = arq['Household Head Highest Grade Completed'].apply(escolaridade)"
   ]
  },
  {
   "cell_type": "code",
   "execution_count": 14,
   "metadata": {},
   "outputs": [],
   "source": [
    "# Acertando a fonte de rendimento da família... Salário ou Outro\n",
    "arq['Income Source'] = arq['Main Source of Income'].apply(lambda x: 'Salary' if x == 'Wage/Salaries' else 'Other')"
   ]
  },
  {
   "cell_type": "markdown",
   "metadata": {},
   "source": [
    " ## $$  ============      MILESTONE 01      ============ $$"
   ]
  },
  {
   "cell_type": "markdown",
   "metadata": {},
   "source": [
    "### 1.1 - Gerando amostra de 100 elementos:"
   ]
  },
  {
   "cell_type": "markdown",
   "metadata": {},
   "source": [
    "Como os dados estão organizados por região, utilizaremos uma amostragem sistemática:"
   ]
  },
  {
   "cell_type": "code",
   "execution_count": 15,
   "metadata": {},
   "outputs": [],
   "source": [
    "def amostra_sistematica(dados, n=30):\n",
    "    N = len(dados)\n",
    "    k = N//n\n",
    "    start = np.random.randint(k)\n",
    "    return dados.iloc[list(range(start, N, k))]"
   ]
  },
  {
   "cell_type": "code",
   "execution_count": 16,
   "metadata": {
    "collapsed": true,
    "jupyter": {
     "outputs_hidden": true
    }
   },
   "outputs": [
    {
     "data": {
      "text/html": [
       "<div>\n",
       "<style scoped>\n",
       "    .dataframe tbody tr th:only-of-type {\n",
       "        vertical-align: middle;\n",
       "    }\n",
       "\n",
       "    .dataframe tbody tr th {\n",
       "        vertical-align: top;\n",
       "    }\n",
       "\n",
       "    .dataframe thead th {\n",
       "        text-align: right;\n",
       "    }\n",
       "</style>\n",
       "<table border=\"1\" class=\"dataframe\">\n",
       "  <thead>\n",
       "    <tr style=\"text-align: right;\">\n",
       "      <th></th>\n",
       "      <th>Total Household Income</th>\n",
       "      <th>Region</th>\n",
       "      <th>Total Food Expenditure</th>\n",
       "      <th>Main Source of Income</th>\n",
       "      <th>Agricultural Household indicator</th>\n",
       "      <th>Bread and Cereals Expenditure</th>\n",
       "      <th>Total Rice Expenditure</th>\n",
       "      <th>Meat Expenditure</th>\n",
       "      <th>Total Fish and  marine products Expenditure</th>\n",
       "      <th>Fruit Expenditure</th>\n",
       "      <th>...</th>\n",
       "      <th>Number of Airconditioner</th>\n",
       "      <th>Number of Car, Jeep, Van</th>\n",
       "      <th>Number of Landline/wireless telephones</th>\n",
       "      <th>Number of Cellular phone</th>\n",
       "      <th>Number of Personal Computer</th>\n",
       "      <th>Number of Stove with Oven/Gas Range</th>\n",
       "      <th>Number of Motorized Banca</th>\n",
       "      <th>Number of Motorcycle/Tricycle</th>\n",
       "      <th>Schoolarship</th>\n",
       "      <th>Income Source</th>\n",
       "    </tr>\n",
       "  </thead>\n",
       "  <tbody>\n",
       "    <tr>\n",
       "      <th>100</th>\n",
       "      <td>101045</td>\n",
       "      <td>CAR</td>\n",
       "      <td>97535</td>\n",
       "      <td>Enterpreneurial Activities</td>\n",
       "      <td>1</td>\n",
       "      <td>53284</td>\n",
       "      <td>47136</td>\n",
       "      <td>12395</td>\n",
       "      <td>9598</td>\n",
       "      <td>980</td>\n",
       "      <td>...</td>\n",
       "      <td>0</td>\n",
       "      <td>0</td>\n",
       "      <td>0</td>\n",
       "      <td>0</td>\n",
       "      <td>0</td>\n",
       "      <td>0</td>\n",
       "      <td>0</td>\n",
       "      <td>0</td>\n",
       "      <td>Fundamental</td>\n",
       "      <td>Other</td>\n",
       "    </tr>\n",
       "    <tr>\n",
       "      <th>515</th>\n",
       "      <td>116805</td>\n",
       "      <td>Caraga</td>\n",
       "      <td>79756</td>\n",
       "      <td>Wage/Salaries</td>\n",
       "      <td>0</td>\n",
       "      <td>31726</td>\n",
       "      <td>29010</td>\n",
       "      <td>10412</td>\n",
       "      <td>9290</td>\n",
       "      <td>520</td>\n",
       "      <td>...</td>\n",
       "      <td>0</td>\n",
       "      <td>0</td>\n",
       "      <td>0</td>\n",
       "      <td>2</td>\n",
       "      <td>0</td>\n",
       "      <td>0</td>\n",
       "      <td>0</td>\n",
       "      <td>0</td>\n",
       "      <td>Medio</td>\n",
       "      <td>Salary</td>\n",
       "    </tr>\n",
       "    <tr>\n",
       "      <th>930</th>\n",
       "      <td>125030</td>\n",
       "      <td>Caraga</td>\n",
       "      <td>74505</td>\n",
       "      <td>Enterpreneurial Activities</td>\n",
       "      <td>1</td>\n",
       "      <td>33311</td>\n",
       "      <td>12940</td>\n",
       "      <td>2160</td>\n",
       "      <td>17916</td>\n",
       "      <td>1555</td>\n",
       "      <td>...</td>\n",
       "      <td>0</td>\n",
       "      <td>0</td>\n",
       "      <td>0</td>\n",
       "      <td>1</td>\n",
       "      <td>0</td>\n",
       "      <td>0</td>\n",
       "      <td>0</td>\n",
       "      <td>0</td>\n",
       "      <td>Fundamental</td>\n",
       "      <td>Other</td>\n",
       "    </tr>\n",
       "    <tr>\n",
       "      <th>1345</th>\n",
       "      <td>124270</td>\n",
       "      <td>VI - Western Visayas</td>\n",
       "      <td>44448</td>\n",
       "      <td>Wage/Salaries</td>\n",
       "      <td>0</td>\n",
       "      <td>16219</td>\n",
       "      <td>13650</td>\n",
       "      <td>4070</td>\n",
       "      <td>8928</td>\n",
       "      <td>1460</td>\n",
       "      <td>...</td>\n",
       "      <td>0</td>\n",
       "      <td>0</td>\n",
       "      <td>0</td>\n",
       "      <td>1</td>\n",
       "      <td>0</td>\n",
       "      <td>0</td>\n",
       "      <td>0</td>\n",
       "      <td>1</td>\n",
       "      <td>Medio</td>\n",
       "      <td>Salary</td>\n",
       "    </tr>\n",
       "    <tr>\n",
       "      <th>1760</th>\n",
       "      <td>89140</td>\n",
       "      <td>V - Bicol Region</td>\n",
       "      <td>45604</td>\n",
       "      <td>Enterpreneurial Activities</td>\n",
       "      <td>0</td>\n",
       "      <td>18816</td>\n",
       "      <td>16471</td>\n",
       "      <td>3547</td>\n",
       "      <td>5729</td>\n",
       "      <td>2236</td>\n",
       "      <td>...</td>\n",
       "      <td>0</td>\n",
       "      <td>0</td>\n",
       "      <td>0</td>\n",
       "      <td>3</td>\n",
       "      <td>0</td>\n",
       "      <td>0</td>\n",
       "      <td>0</td>\n",
       "      <td>0</td>\n",
       "      <td>Medio</td>\n",
       "      <td>Other</td>\n",
       "    </tr>\n",
       "  </tbody>\n",
       "</table>\n",
       "<p>5 rows × 62 columns</p>\n",
       "</div>"
      ],
      "text/plain": [
       "      Total Household Income                Region  Total Food Expenditure  \\\n",
       "100                   101045                   CAR                   97535   \n",
       "515                   116805                Caraga                   79756   \n",
       "930                   125030                Caraga                   74505   \n",
       "1345                  124270  VI - Western Visayas                   44448   \n",
       "1760                   89140      V - Bicol Region                   45604   \n",
       "\n",
       "           Main Source of Income  Agricultural Household indicator  \\\n",
       "100   Enterpreneurial Activities                                 1   \n",
       "515                Wage/Salaries                                 0   \n",
       "930   Enterpreneurial Activities                                 1   \n",
       "1345               Wage/Salaries                                 0   \n",
       "1760  Enterpreneurial Activities                                 0   \n",
       "\n",
       "      Bread and Cereals Expenditure  Total Rice Expenditure  Meat Expenditure  \\\n",
       "100                           53284                   47136             12395   \n",
       "515                           31726                   29010             10412   \n",
       "930                           33311                   12940              2160   \n",
       "1345                          16219                   13650              4070   \n",
       "1760                          18816                   16471              3547   \n",
       "\n",
       "      Total Fish and  marine products Expenditure  Fruit Expenditure  ...  \\\n",
       "100                                          9598                980  ...   \n",
       "515                                          9290                520  ...   \n",
       "930                                         17916               1555  ...   \n",
       "1345                                         8928               1460  ...   \n",
       "1760                                         5729               2236  ...   \n",
       "\n",
       "      Number of Airconditioner  Number of Car, Jeep, Van  \\\n",
       "100                          0                         0   \n",
       "515                          0                         0   \n",
       "930                          0                         0   \n",
       "1345                         0                         0   \n",
       "1760                         0                         0   \n",
       "\n",
       "      Number of Landline/wireless telephones  Number of Cellular phone  \\\n",
       "100                                        0                         0   \n",
       "515                                        0                         2   \n",
       "930                                        0                         1   \n",
       "1345                                       0                         1   \n",
       "1760                                       0                         3   \n",
       "\n",
       "      Number of Personal Computer  Number of Stove with Oven/Gas Range  \\\n",
       "100                             0                                    0   \n",
       "515                             0                                    0   \n",
       "930                             0                                    0   \n",
       "1345                            0                                    0   \n",
       "1760                            0                                    0   \n",
       "\n",
       "      Number of Motorized Banca  Number of Motorcycle/Tricycle  Schoolarship  \\\n",
       "100                           0                              0   Fundamental   \n",
       "515                           0                              0         Medio   \n",
       "930                           0                              0   Fundamental   \n",
       "1345                          0                              1         Medio   \n",
       "1760                          0                              0         Medio   \n",
       "\n",
       "      Income Source  \n",
       "100           Other  \n",
       "515          Salary  \n",
       "930           Other  \n",
       "1345         Salary  \n",
       "1760          Other  \n",
       "\n",
       "[5 rows x 62 columns]"
      ]
     },
     "execution_count": 16,
     "metadata": {},
     "output_type": "execute_result"
    }
   ],
   "source": [
    "df = amostra_sistematica(arq,100)\n",
    "df.head()"
   ]
  },
  {
   "cell_type": "markdown",
   "metadata": {},
   "source": [
    "### 1.2 - Análise descritiva de 10 variáveis quantitativas:"
   ]
  },
  {
   "cell_type": "code",
   "execution_count": 17,
   "metadata": {},
   "outputs": [],
   "source": [
    "df_01 = df[['Total Household Income', \n",
    "            'Total Food Expenditure', \n",
    "            'Education Expenditure', \n",
    "            'Housing and water Expenditure', \n",
    "            'Medical Care Expenditure', \n",
    "            'Transportation Expenditure', \n",
    "            'Clothing, Footwear and Other Wear Expenditure', \n",
    "            'Total Income from Entrepreneurial Acitivites', \n",
    "            'Total Number of Family members', \n",
    "            'Total number of family members employed']]"
   ]
  },
  {
   "cell_type": "code",
   "execution_count": 18,
   "metadata": {
    "collapsed": true,
    "jupyter": {
     "outputs_hidden": true
    },
    "scrolled": true
   },
   "outputs": [
    {
     "data": {
      "text/html": [
       "<div>\n",
       "<style scoped>\n",
       "    .dataframe tbody tr th:only-of-type {\n",
       "        vertical-align: middle;\n",
       "    }\n",
       "\n",
       "    .dataframe tbody tr th {\n",
       "        vertical-align: top;\n",
       "    }\n",
       "\n",
       "    .dataframe thead th {\n",
       "        text-align: right;\n",
       "    }\n",
       "</style>\n",
       "<table border=\"1\" class=\"dataframe\">\n",
       "  <thead>\n",
       "    <tr style=\"text-align: right;\">\n",
       "      <th></th>\n",
       "      <th>count</th>\n",
       "      <th>mean</th>\n",
       "      <th>std</th>\n",
       "      <th>min</th>\n",
       "      <th>25%</th>\n",
       "      <th>50%</th>\n",
       "      <th>75%</th>\n",
       "      <th>max</th>\n",
       "    </tr>\n",
       "  </thead>\n",
       "  <tbody>\n",
       "    <tr>\n",
       "      <th>Total Household Income</th>\n",
       "      <td>100.0</td>\n",
       "      <td>223002.41</td>\n",
       "      <td>243725.087663</td>\n",
       "      <td>41974.0</td>\n",
       "      <td>95092.75</td>\n",
       "      <td>137085.0</td>\n",
       "      <td>246002.00</td>\n",
       "      <td>1559930.0</td>\n",
       "    </tr>\n",
       "    <tr>\n",
       "      <th>Total Food Expenditure</th>\n",
       "      <td>100.0</td>\n",
       "      <td>77014.64</td>\n",
       "      <td>45123.501374</td>\n",
       "      <td>19651.0</td>\n",
       "      <td>45682.75</td>\n",
       "      <td>66385.0</td>\n",
       "      <td>92750.75</td>\n",
       "      <td>273116.0</td>\n",
       "    </tr>\n",
       "    <tr>\n",
       "      <th>Education Expenditure</th>\n",
       "      <td>100.0</td>\n",
       "      <td>6973.18</td>\n",
       "      <td>20702.204726</td>\n",
       "      <td>0.0</td>\n",
       "      <td>0.00</td>\n",
       "      <td>655.0</td>\n",
       "      <td>2887.50</td>\n",
       "      <td>136500.0</td>\n",
       "    </tr>\n",
       "    <tr>\n",
       "      <th>Housing and water Expenditure</th>\n",
       "      <td>100.0</td>\n",
       "      <td>32356.68</td>\n",
       "      <td>36814.136727</td>\n",
       "      <td>3948.0</td>\n",
       "      <td>13771.50</td>\n",
       "      <td>21564.0</td>\n",
       "      <td>38802.00</td>\n",
       "      <td>312120.0</td>\n",
       "    </tr>\n",
       "    <tr>\n",
       "      <th>Medical Care Expenditure</th>\n",
       "      <td>100.0</td>\n",
       "      <td>2130.16</td>\n",
       "      <td>3242.431669</td>\n",
       "      <td>0.0</td>\n",
       "      <td>246.00</td>\n",
       "      <td>816.5</td>\n",
       "      <td>2297.50</td>\n",
       "      <td>18610.0</td>\n",
       "    </tr>\n",
       "    <tr>\n",
       "      <th>Transportation Expenditure</th>\n",
       "      <td>100.0</td>\n",
       "      <td>9794.76</td>\n",
       "      <td>14170.088353</td>\n",
       "      <td>120.0</td>\n",
       "      <td>2053.50</td>\n",
       "      <td>5664.0</td>\n",
       "      <td>11616.00</td>\n",
       "      <td>104250.0</td>\n",
       "    </tr>\n",
       "    <tr>\n",
       "      <th>Clothing, Footwear and Other Wear Expenditure</th>\n",
       "      <td>100.0</td>\n",
       "      <td>4170.15</td>\n",
       "      <td>5405.689351</td>\n",
       "      <td>0.0</td>\n",
       "      <td>1213.75</td>\n",
       "      <td>2168.0</td>\n",
       "      <td>4945.00</td>\n",
       "      <td>27346.0</td>\n",
       "    </tr>\n",
       "    <tr>\n",
       "      <th>Total Income from Entrepreneurial Acitivites</th>\n",
       "      <td>100.0</td>\n",
       "      <td>43272.05</td>\n",
       "      <td>75180.666430</td>\n",
       "      <td>0.0</td>\n",
       "      <td>0.00</td>\n",
       "      <td>22455.5</td>\n",
       "      <td>59882.25</td>\n",
       "      <td>607880.0</td>\n",
       "    </tr>\n",
       "    <tr>\n",
       "      <th>Total Number of Family members</th>\n",
       "      <td>100.0</td>\n",
       "      <td>4.93</td>\n",
       "      <td>2.387911</td>\n",
       "      <td>1.0</td>\n",
       "      <td>3.00</td>\n",
       "      <td>5.0</td>\n",
       "      <td>6.00</td>\n",
       "      <td>12.0</td>\n",
       "    </tr>\n",
       "    <tr>\n",
       "      <th>Total number of family members employed</th>\n",
       "      <td>100.0</td>\n",
       "      <td>1.32</td>\n",
       "      <td>1.238115</td>\n",
       "      <td>0.0</td>\n",
       "      <td>0.00</td>\n",
       "      <td>1.0</td>\n",
       "      <td>2.00</td>\n",
       "      <td>5.0</td>\n",
       "    </tr>\n",
       "  </tbody>\n",
       "</table>\n",
       "</div>"
      ],
      "text/plain": [
       "                                               count       mean  \\\n",
       "Total Household Income                         100.0  223002.41   \n",
       "Total Food Expenditure                         100.0   77014.64   \n",
       "Education Expenditure                          100.0    6973.18   \n",
       "Housing and water Expenditure                  100.0   32356.68   \n",
       "Medical Care Expenditure                       100.0    2130.16   \n",
       "Transportation Expenditure                     100.0    9794.76   \n",
       "Clothing, Footwear and Other Wear Expenditure  100.0    4170.15   \n",
       "Total Income from Entrepreneurial Acitivites   100.0   43272.05   \n",
       "Total Number of Family members                 100.0       4.93   \n",
       "Total number of family members employed        100.0       1.32   \n",
       "\n",
       "                                                         std      min  \\\n",
       "Total Household Income                         243725.087663  41974.0   \n",
       "Total Food Expenditure                          45123.501374  19651.0   \n",
       "Education Expenditure                           20702.204726      0.0   \n",
       "Housing and water Expenditure                   36814.136727   3948.0   \n",
       "Medical Care Expenditure                         3242.431669      0.0   \n",
       "Transportation Expenditure                      14170.088353    120.0   \n",
       "Clothing, Footwear and Other Wear Expenditure    5405.689351      0.0   \n",
       "Total Income from Entrepreneurial Acitivites    75180.666430      0.0   \n",
       "Total Number of Family members                      2.387911      1.0   \n",
       "Total number of family members employed             1.238115      0.0   \n",
       "\n",
       "                                                    25%       50%        75%  \\\n",
       "Total Household Income                         95092.75  137085.0  246002.00   \n",
       "Total Food Expenditure                         45682.75   66385.0   92750.75   \n",
       "Education Expenditure                              0.00     655.0    2887.50   \n",
       "Housing and water Expenditure                  13771.50   21564.0   38802.00   \n",
       "Medical Care Expenditure                         246.00     816.5    2297.50   \n",
       "Transportation Expenditure                      2053.50    5664.0   11616.00   \n",
       "Clothing, Footwear and Other Wear Expenditure   1213.75    2168.0    4945.00   \n",
       "Total Income from Entrepreneurial Acitivites       0.00   22455.5   59882.25   \n",
       "Total Number of Family members                     3.00       5.0       6.00   \n",
       "Total number of family members employed            0.00       1.0       2.00   \n",
       "\n",
       "                                                     max  \n",
       "Total Household Income                         1559930.0  \n",
       "Total Food Expenditure                          273116.0  \n",
       "Education Expenditure                           136500.0  \n",
       "Housing and water Expenditure                   312120.0  \n",
       "Medical Care Expenditure                         18610.0  \n",
       "Transportation Expenditure                      104250.0  \n",
       "Clothing, Footwear and Other Wear Expenditure    27346.0  \n",
       "Total Income from Entrepreneurial Acitivites    607880.0  \n",
       "Total Number of Family members                      12.0  \n",
       "Total number of family members employed              5.0  "
      ]
     },
     "execution_count": 18,
     "metadata": {},
     "output_type": "execute_result"
    }
   ],
   "source": [
    "df_01.describe().T"
   ]
  },
  {
   "cell_type": "code",
   "execution_count": 65,
   "metadata": {},
   "outputs": [
    {
     "data": {
      "image/png": "[encoded data removed]",
      "text/plain": [
       "<Figure size 432x288 with 1 Axes>"
      ]
     },
     "metadata": {
      "needs_background": "light"
     },
     "output_type": "display_data"
    },
    {
     "data": {
      "image/png": "[encoded data removed]",
      "text/plain": [
       "<Figure size 432x288 with 1 Axes>"
      ]
     },
     "metadata": {
      "needs_background": "light"
     },
     "output_type": "display_data"
    },
    {
     "data": {
      "image/png": "[encoded data removed]",
      "text/plain": [
       "<Figure size 432x288 with 1 Axes>"
      ]
     },
     "metadata": {
      "needs_background": "light"
     },
     "output_type": "display_data"
    },
    {
     "data": {
      "image/png": "[encoded data removed]",
      "text/plain": [
       "<Figure size 432x288 with 1 Axes>"
      ]
     },
     "metadata": {
      "needs_background": "light"
     },
     "output_type": "display_data"
    },
    {
     "data": {
      "image/png": "[encoded data removed]",
      "text/plain": [
       "<Figure size 432x288 with 1 Axes>"
      ]
     },
     "metadata": {
      "needs_background": "light"
     },
     "output_type": "display_data"
    },
    {
     "data": {
      "image/png": "[encoded data removed]",
      "text/plain": [
       "<Figure size 432x288 with 1 Axes>"
      ]
     },
     "metadata": {
      "needs_background": "light"
     },
     "output_type": "display_data"
    },
    {
     "data": {
      "image/png": "[encoded data removed]",
      "text/plain": [
       "<Figure size 432x288 with 1 Axes>"
      ]
     },
     "metadata": {
      "needs_background": "light"
     },
     "output_type": "display_data"
    },
    {
     "data": {
      "image/png": "[encoded data removed]",
      "text/plain": [
       "<Figure size 432x288 with 1 Axes>"
      ]
     },
     "metadata": {
      "needs_background": "light"
     },
     "output_type": "display_data"
    },
    {
     "data": {
      "image/png": "[encoded data removed]",
      "text/plain": [
       "<Figure size 432x288 with 1 Axes>"
      ]
     },
     "metadata": {
      "needs_background": "light"
     },
     "output_type": "display_data"
    },
    {
     "data": {
      "image/png": "[encoded data removed]",
      "text/plain": [
       "<Figure size 432x288 with 1 Axes>"
      ]
     },
     "metadata": {
      "needs_background": "light"
     },
     "output_type": "display_data"
    }
   ],
   "source": [
    "for i in df_01.columns:\n",
    "    fig, ax = plt.subplots()\n",
    "    if i == 'Total Household Income':\n",
    "        ax.hist(df[i]/1000000, bins=15)\n",
    "        ax.set_xlabel('Millions of Pesos')\n",
    "    elif i == 'Total Number of Family members' or i == 'Total number of family members employed':\n",
    "        ax.hist(df[i], bins=15)\n",
    "        ax.set_xlabel('Family Members')\n",
    "    else:\n",
    "        ax.hist(df[i], bins=15)\n",
    "        ax.set_xlabel('Pesos')\n",
    "       \n",
    "    ax.set_title(i)\n",
    "    ax.set_ylabel('Count')\n",
    "    plt.show()"
   ]
  },
  {
   "cell_type": "markdown",
   "metadata": {},
   "source": [
    " ##  $$ ============      MILESTONE 02      ============ $$"
   ]
  },
  {
   "cell_type": "markdown",
   "metadata": {},
   "source": [
    "### 2.1 - Calcule com 95 % de confiança a média de dinheiro gasto com saúde e educação."
   ]
  },
  {
   "cell_type": "markdown",
   "metadata": {},
   "source": [
    "##### $$ -----  SAÚDE  ----- $$"
   ]
  },
  {
   "cell_type": "code",
   "execution_count": 20,
   "metadata": {
    "collapsed": true,
    "jupyter": {
     "outputs_hidden": true
    }
   },
   "outputs": [
    {
     "data": {
      "text/plain": [
       "(2130.16, 3242.431668617947)"
      ]
     },
     "execution_count": 20,
     "metadata": {},
     "output_type": "execute_result"
    }
   ],
   "source": [
    "mean_saude = df['Medical Care Expenditure'].mean()\n",
    "std_saude = df['Medical Care Expenditure'].std()\n",
    "\n",
    "mean_saude, std_saude"
   ]
  },
  {
   "cell_type": "code",
   "execution_count": 21,
   "metadata": {
    "collapsed": true,
    "jupyter": {
     "outputs_hidden": true
    }
   },
   "outputs": [
    {
     "data": {
      "text/plain": [
       "(1494.655070717671, 2765.6649292823286)"
      ]
     },
     "execution_count": 21,
     "metadata": {},
     "output_type": "execute_result"
    }
   ],
   "source": [
    "norm.ppf(0.025,mean_saude,std_saude/10), norm.ppf(0.975,mean_saude,std_saude/10)"
   ]
  },
  {
   "cell_type": "markdown",
   "metadata": {},
   "source": [
    "### ---> Com base nestes resultados, podemos afirmar que a média $\\overline x$:\n",
    "\n",
    "### $$ 1,494.66 < \\overline x < 2,765.66 $$"
   ]
  },
  {
   "cell_type": "code",
   "execution_count": 22,
   "metadata": {
    "collapsed": true,
    "jupyter": {
     "outputs_hidden": true
    }
   },
   "outputs": [
    {
     "data": {
      "image/png": "[encoded data removed]",
      "text/plain": [
       "<Figure size 432x288 with 1 Axes>"
      ]
     },
     "metadata": {
      "needs_background": "light"
     },
     "output_type": "display_data"
    }
   ],
   "source": [
    "fig, ax = plt.subplots()\n",
    "x = np.arange(0, norm.ppf(0.975,mean_saude,std_saude/10) + 8000, 0.01)\n",
    "ax.plot(x, norm.pdf(x,mean_saude,std_saude/10))\n",
    "ax.set_title('Mean Medical Care Expenditure')\n",
    "ax.set_xlabel('Medical Care Expenditure')\n",
    "ax.set_ylabel('pdf(x)')\n",
    "ax.grid(True)\n",
    "\n",
    "px=np.arange(norm.ppf(0.025,mean_saude,std_saude/10),norm.ppf(0.975,mean_saude,std_saude/10))\n",
    "ax.fill_between(px,norm.pdf(px,mean_saude,std_saude/10),alpha=0.5, color='g')\n",
    "\n",
    "plt.show()"
   ]
  },
  {
   "cell_type": "markdown",
   "metadata": {},
   "source": [
    "##### $$ -----  EDUCAÇÃO  ----- $$"
   ]
  },
  {
   "cell_type": "code",
   "execution_count": 23,
   "metadata": {
    "collapsed": true,
    "jupyter": {
     "outputs_hidden": true
    }
   },
   "outputs": [
    {
     "data": {
      "text/plain": [
       "(6973.18, 20702.20472589158)"
      ]
     },
     "execution_count": 23,
     "metadata": {},
     "output_type": "execute_result"
    }
   ],
   "source": [
    "mean_educacao = df['Education Expenditure'].mean()\n",
    "std_educacao = df['Education Expenditure'].std()\n",
    "\n",
    "mean_educacao, std_educacao"
   ]
  },
  {
   "cell_type": "code",
   "execution_count": 24,
   "metadata": {},
   "outputs": [
    {
     "data": {
      "text/plain": [
       "(2915.6224336677597, 11030.73756633224)"
      ]
     },
     "execution_count": 24,
     "metadata": {},
     "output_type": "execute_result"
    }
   ],
   "source": [
    "norm.ppf(0.025, mean_educacao, std_educacao/10), norm.ppf(0.975, mean_educacao, std_educacao/10)"
   ]
  },
  {
   "cell_type": "markdown",
   "metadata": {},
   "source": [
    "### ---> Com base nestes resultados, podemos afirmar que a média $\\overline x$:\n",
    "\n",
    "### $$ 2,915.62 < \\overline x < 11,030.74 $$"
   ]
  },
  {
   "cell_type": "code",
   "execution_count": 25,
   "metadata": {
    "collapsed": true,
    "jupyter": {
     "outputs_hidden": true
    }
   },
   "outputs": [
    {
     "data": {
      "image/png": "[encoded data removed]",
      "text/plain": [
       "<Figure size 432x288 with 1 Axes>"
      ]
     },
     "metadata": {
      "needs_background": "light"
     },
     "output_type": "display_data"
    }
   ],
   "source": [
    "fig, ax = plt.subplots()\n",
    "x = np.arange(0,norm.ppf(0.975, mean_educacao, std_educacao/10) + 6000, 0.01)\n",
    "ax.plot(x, norm.pdf(x, mean_educacao, std_educacao/10))\n",
    "ax.set_title('Mean Education Expenditure')\n",
    "ax.set_xlabel('Education Expenditure')\n",
    "ax.set_ylabel('pdf(x)')\n",
    "ax.grid(True)\n",
    "\n",
    "px=np.arange(norm.ppf(0.025, mean_educacao, std_educacao/10), norm.ppf(0.975, mean_educacao, std_educacao/10))\n",
    "ax.fill_between(px,norm.pdf(px,mean_educacao,std_educacao/10),alpha=0.5, color='g')\n",
    "\n",
    "plt.show()"
   ]
  },
  {
   "cell_type": "markdown",
   "metadata": {},
   "source": [
    "### 2.2 - Calcule se há diferença na média do número de membros de uma família pelo sexo do chefe de família, com 95 % de confiança."
   ]
  },
  {
   "cell_type": "code",
   "execution_count": 26,
   "metadata": {},
   "outputs": [],
   "source": [
    "df_male = df[df['Household Head Sex']== 'Male']['Total Number of Family members']\n",
    "df_female = df[df['Household Head Sex']== 'Female']['Total Number of Family members']"
   ]
  },
  {
   "cell_type": "code",
   "execution_count": 27,
   "metadata": {
    "collapsed": true,
    "jupyter": {
     "outputs_hidden": true
    }
   },
   "outputs": [
    {
     "data": {
      "image/png": "[encoded data removed]",
      "text/plain": [
       "<Figure size 432x288 with 1 Axes>"
      ]
     },
     "metadata": {
      "needs_background": "light"
     },
     "output_type": "display_data"
    }
   ],
   "source": [
    "fig, ax = plt.subplots()\n",
    "x = np.arange(1, 7, 0.01)\n",
    "\n",
    "plt.plot(x, norm.pdf(x, df_male.mean(), df_male.mean()/np.sqrt(len(df_male))), label='Male')\n",
    "\n",
    "plt.plot(x, norm.pdf(x, df_female.mean(), df_female.mean()/np.sqrt(len(df_female))), label='Female')\n",
    "\n",
    "ax.set_title('Number of Family members per Household sex')\n",
    "ax.set_xlabel('Number of Family members')\n",
    "ax.set_ylabel('pdf(x)')\n",
    "\n",
    "ax.legend()\n",
    "\n",
    "\n",
    "plt.show()"
   ]
  },
  {
   "cell_type": "markdown",
   "metadata": {},
   "source": [
    " "
   ]
  },
  {
   "cell_type": "markdown",
   "metadata": {},
   "source": [
    "### <center> 1º PASSO - Analisando as variâncias das amostras <center>"
   ]
  },
  {
   "cell_type": "markdown",
   "metadata": {},
   "source": [
    "$H_0$ - amostras de mesma variância\n",
    "\n",
    "$H_1$ - amostras de variâncias diferentes\n",
    "\n",
    "Intervalo de confiança de 95% "
   ]
  },
  {
   "cell_type": "code",
   "execution_count": 28,
   "metadata": {
    "collapsed": true,
    "jupyter": {
     "outputs_hidden": true
    }
   },
   "outputs": [
    {
     "data": {
      "text/plain": [
       "1.1519963238397906"
      ]
     },
     "execution_count": 28,
     "metadata": {},
     "output_type": "execute_result"
    }
   ],
   "source": [
    "w = (df_male.var()/df_female.var())\n",
    "w"
   ]
  },
  {
   "cell_type": "code",
   "execution_count": 29,
   "metadata": {
    "collapsed": true,
    "jupyter": {
     "outputs_hidden": true
    }
   },
   "outputs": [
    {
     "data": {
      "image/png": "[encoded data removed]",
      "text/plain": [
       "<Figure size 432x288 with 1 Axes>"
      ]
     },
     "metadata": {
      "needs_background": "light"
     },
     "output_type": "display_data"
    }
   ],
   "source": [
    "x = np.arange(0.1, 3, 0.01)\n",
    "plt.plot(x, f.pdf(x, len(df_male) - 1, len(df_female) - 1))\n",
    "plt.show()"
   ]
  },
  {
   "cell_type": "code",
   "execution_count": 57,
   "metadata": {},
   "outputs": [
    {
     "data": {
      "text/plain": [
       "0.12575054537550023"
      ]
     },
     "execution_count": 57,
     "metadata": {},
     "output_type": "execute_result"
    }
   ],
   "source": [
    "1 - f.cdf(w, len(df_male) - 1, len(df_female) - 1)"
   ]
  },
  {
   "cell_type": "markdown",
   "metadata": {},
   "source": [
    "### Como: \n",
    "\n",
    "### $$ 0.025 < pvalor < 0.975 $$\n",
    "\n",
    "### ---> Então, não existe diferença estatisticamente significativa entre as médias"
   ]
  },
  {
   "cell_type": "markdown",
   "metadata": {},
   "source": [
    " "
   ]
  },
  {
   "cell_type": "markdown",
   "metadata": {},
   "source": [
    "\n",
    "### <center> 2º PASSO - Analisando as médias </center>"
   ]
  },
  {
   "cell_type": "markdown",
   "metadata": {},
   "source": [
    "$H_0$ - amostras de mesma média\n",
    "\n",
    "$H_1$ - amostras de médias diferentes\n",
    "\n",
    "Intervalo de confiança de 95% "
   ]
  },
  {
   "cell_type": "code",
   "execution_count": 31,
   "metadata": {},
   "outputs": [],
   "source": [
    "xa = df_male.mean()\n",
    "Sa = df_male.std()\n",
    "n = len(df_male)\n",
    "\n",
    "xb = df_female.mean()\n",
    "Sb = df_female.std()\n",
    "m = len(df_female)"
   ]
  },
  {
   "cell_type": "code",
   "execution_count": 32,
   "metadata": {},
   "outputs": [],
   "source": [
    "# Variâncias Diferentes\n",
    "\n",
    "A = (Sa**2)/n\n",
    "B = (Sb**2)/m\n",
    "\n",
    "dof = ((A + B)**2)/((A**2)/(n-1) + (B**2)/(m-1))\n",
    "\n",
    "x = (xa - xb)/(np.sqrt(A+B))"
   ]
  },
  {
   "cell_type": "code",
   "execution_count": 33,
   "metadata": {},
   "outputs": [],
   "source": [
    "# Variâncias Semelhantes\n",
    "\n",
    "dof = n+m-2\n",
    "Sp = np.sqrt(((n-1)*(Sa)**2 + (m-1)*(Sb)**2)/dof)\n",
    "x = (xa - xb)/(Sp*np.sqrt((1/n)+(1/m)))"
   ]
  },
  {
   "cell_type": "code",
   "execution_count": 34,
   "metadata": {},
   "outputs": [
    {
     "data": {
      "text/plain": [
       "2.2584236664264656"
      ]
     },
     "execution_count": 34,
     "metadata": {},
     "output_type": "execute_result"
    }
   ],
   "source": [
    "x"
   ]
  },
  {
   "cell_type": "code",
   "execution_count": 35,
   "metadata": {},
   "outputs": [
    {
     "data": {
      "image/png": "[encoded data removed]",
      "text/plain": [
       "<Figure size 432x288 with 1 Axes>"
      ]
     },
     "metadata": {
      "needs_background": "light"
     },
     "output_type": "display_data"
    }
   ],
   "source": [
    "tes = np.arange(-3, 3, 0.01)\n",
    "plt.plot(tes, t.pdf(tes, dof))\n",
    "plt.show()"
   ]
  },
  {
   "cell_type": "code",
   "execution_count": 36,
   "metadata": {},
   "outputs": [
    {
     "data": {
      "text/plain": [
       "0.013068103082253701"
      ]
     },
     "execution_count": 36,
     "metadata": {},
     "output_type": "execute_result"
    }
   ],
   "source": [
    "1-t.cdf(x, dof)"
   ]
  },
  {
   "cell_type": "markdown",
   "metadata": {},
   "source": [
    "### Como:\n",
    "\n",
    "### $$ 0.025 < pvalor < 0.975 $$\n",
    "\n",
    "### ---> Então, não existe diferença estatisticamente significativa entre as médias"
   ]
  },
  {
   "cell_type": "code",
   "execution_count": 37,
   "metadata": {},
   "outputs": [
    {
     "data": {
      "text/plain": [
       "Ttest_indResult(statistic=2.258423666426466, pvalue=0.0261362061645075)"
      ]
     },
     "execution_count": 37,
     "metadata": {},
     "output_type": "execute_result"
    }
   ],
   "source": [
    "# conferindo... os resultados são os mesmos, mas o pvalor chega próximo (0.12 - 0.13)\n",
    "ttest_ind(df_male, df_female)"
   ]
  },
  {
   "cell_type": "markdown",
   "metadata": {},
   "source": [
    "### 2.3 - Calcule se há diferença na média total de renda da família (total household Income) de acordo com a fonte salarial (main source of income)."
   ]
  },
  {
   "cell_type": "code",
   "execution_count": 38,
   "metadata": {},
   "outputs": [],
   "source": [
    "df_salario = df[df['Income Source'] == 'Salary']['Total Household Income']\n",
    "df_outro = df[df['Income Source'] == 'Other']['Total Household Income']"
   ]
  },
  {
   "cell_type": "code",
   "execution_count": 39,
   "metadata": {},
   "outputs": [
    {
     "data": {
      "text/plain": [
       "(274576.17647058825, 169323.5918367347, 261645.08405943392, 213162.71823802023)"
      ]
     },
     "execution_count": 39,
     "metadata": {},
     "output_type": "execute_result"
    }
   ],
   "source": [
    "xa = df_salario.mean()\n",
    "Sa = df_salario.std()\n",
    "n = len(df_salario)\n",
    "\n",
    "xb = df_outro.mean()\n",
    "Sb = df_outro.std()\n",
    "m = len(df_outro)\n",
    "\n",
    "xa, xb, Sa, Sb"
   ]
  },
  {
   "cell_type": "code",
   "execution_count": 40,
   "metadata": {
    "scrolled": true
   },
   "outputs": [
    {
     "data": {
      "image/png": "[encoded data removed]",
      "text/plain": [
       "<Figure size 432x288 with 1 Axes>"
      ]
     },
     "metadata": {
      "needs_background": "light"
     },
     "output_type": "display_data"
    }
   ],
   "source": [
    "fig, ax = plt.subplots()\n",
    "x = np.arange(100000, 600000, 10)\n",
    "y1 = norm.pdf(x, xa, Sa/np.sqrt(n))\n",
    "y2 = norm.pdf(x, xb, Sb/np.sqrt(m))\n",
    "\n",
    "plt.plot(x, y1, label='Salary')\n",
    "plt.plot(x, y2, label='Other')\n",
    "\n",
    "#ax.set_title('Total Household Income')\n",
    "ax.set_xlabel('Total Household Income')\n",
    "ax.set_ylabel('pdf(x)')\n",
    "\n",
    "plt.legend()\n",
    "\n",
    "plt.show()"
   ]
  },
  {
   "cell_type": "markdown",
   "metadata": {},
   "source": [
    "### <center> 1º PASSO - Analisando as variâncias das amostras <center>"
   ]
  },
  {
   "cell_type": "markdown",
   "metadata": {},
   "source": [
    "$H_0$ - amostras de mesma variâncias\n",
    "\n",
    "$H_1$ - amostras de variâncias diferentes\n",
    "\n",
    "Intervalo de confiança de 95% "
   ]
  },
  {
   "cell_type": "code",
   "execution_count": 41,
   "metadata": {},
   "outputs": [
    {
     "data": {
      "text/plain": [
       "1.5066162917288723"
      ]
     },
     "execution_count": 41,
     "metadata": {},
     "output_type": "execute_result"
    }
   ],
   "source": [
    "w = (Sa**2)/(Sb**2)\n",
    "w"
   ]
  },
  {
   "cell_type": "code",
   "execution_count": 42,
   "metadata": {},
   "outputs": [
    {
     "data": {
      "text/plain": [
       "1.765324503088776"
      ]
     },
     "execution_count": 42,
     "metadata": {},
     "output_type": "execute_result"
    }
   ],
   "source": [
    "# região crítica valor maior que 1.75\n",
    "rc = f.ppf(0.975, n-1, m-1)\n",
    "rc"
   ]
  },
  {
   "cell_type": "code",
   "execution_count": 43,
   "metadata": {
    "collapsed": true,
    "jupyter": {
     "outputs_hidden": true
    }
   },
   "outputs": [
    {
     "name": "stderr",
     "output_type": "stream",
     "text": [
      "C:\\ProgramData\\Anaconda3\\lib\\site-packages\\scipy\\stats\\_continuous_distns.py:1680: RuntimeWarning: divide by zero encountered in log\n",
      "  lPx = m/2 * np.log(m) + n/2 * np.log(n) + (n/2 - 1) * np.log(x)\n"
     ]
    },
    {
     "data": {
      "image/png": "[encoded data removed]",
      "text/plain": [
       "<Figure size 432x288 with 1 Axes>"
      ]
     },
     "metadata": {
      "needs_background": "light"
     },
     "output_type": "display_data"
    }
   ],
   "source": [
    "x = np.arange(0,2.5, 0.01)\n",
    "plt.plot(x, f.pdf(x, n-1, m-1))\n",
    "plt.fill_between(np.arange(rc,2.5, 0.01), f.pdf(np.arange(rc,2.5, 0.01), n-1, m-1),alpha=0.7, color='r')\n",
    "plt.show()"
   ]
  },
  {
   "cell_type": "code",
   "execution_count": 44,
   "metadata": {
    "collapsed": true,
    "jupyter": {
     "outputs_hidden": true
    }
   },
   "outputs": [
    {
     "data": {
      "text/plain": [
       "0.0780797104269435"
      ]
     },
     "execution_count": 44,
     "metadata": {},
     "output_type": "execute_result"
    }
   ],
   "source": [
    "1 - f.cdf(w, n-1, m-1) # p_valor < que 0.025  --> descartamos H_o"
   ]
  },
  {
   "cell_type": "markdown",
   "metadata": {},
   "source": [
    "### Como: \n",
    "\n",
    "### $$ pvalor < 0.025 $$ \n",
    "\n",
    "### ---> Então, rejeitamos a hipótese nula."
   ]
  },
  {
   "cell_type": "markdown",
   "metadata": {},
   "source": [
    " "
   ]
  },
  {
   "cell_type": "markdown",
   "metadata": {},
   "source": [
    "### <center> 2º PASSO - Analisando as médias <center>"
   ]
  },
  {
   "cell_type": "markdown",
   "metadata": {},
   "source": [
    "$H_0$ - amostras de mesma média (mesma população)\n",
    "\n",
    "$H_1$ - amostras de médias diferentes (populações diferentes)\n",
    "\n",
    "Intervalo de confiança de 95% "
   ]
  },
  {
   "cell_type": "code",
   "execution_count": 45,
   "metadata": {},
   "outputs": [],
   "source": [
    "# Variâncias Diferentes\n",
    "\n",
    "A = (Sa**2)/n\n",
    "B = (Sb**2)/m\n",
    "\n",
    "dof = ((A + B)**2)/((A**2)/(n-1) + (B**2)/(m-1))\n",
    "\n",
    "x = (xa - xb)/(np.sqrt(A+B))"
   ]
  },
  {
   "cell_type": "code",
   "execution_count": 46,
   "metadata": {
    "collapsed": true,
    "jupyter": {
     "outputs_hidden": true
    }
   },
   "outputs": [
    {
     "data": {
      "text/plain": [
       "0.01477232763312919"
      ]
     },
     "execution_count": 46,
     "metadata": {},
     "output_type": "execute_result"
    }
   ],
   "source": [
    "1 - t.cdf(x, dof) # p-valor < 0.025 --> Descartamos H_o"
   ]
  },
  {
   "cell_type": "markdown",
   "metadata": {},
   "source": [
    "### Como:\n",
    "\n",
    "### $$ pvalor < 0.025 $$\n",
    "\n",
    "### ---> Então, existe diferença estatisticamente significativa entre as médias."
   ]
  },
  {
   "cell_type": "code",
   "execution_count": 47,
   "metadata": {},
   "outputs": [
    {
     "data": {
      "text/plain": [
       "Ttest_indResult(statistic=2.2002999333597897, pvalue=0.030134848545626983)"
      ]
     },
     "execution_count": 47,
     "metadata": {},
     "output_type": "execute_result"
    }
   ],
   "source": [
    "# Comparando\n",
    "ttest_ind(df_salario, df_outro)"
   ]
  },
  {
   "cell_type": "markdown",
   "metadata": {},
   "source": [
    " ##  $$ ============      MILESTONE 03      ============ $$"
   ]
  },
  {
   "cell_type": "markdown",
   "metadata": {},
   "source": [
    "### 3.1 - Diga se há relação entre os indicadores entre o chefe de família estar empregado ou não com a escolaridade."
   ]
  },
  {
   "cell_type": "code",
   "execution_count": 48,
   "metadata": {},
   "outputs": [
    {
     "name": "stdout",
     "output_type": "stream",
     "text": [
      "Schoolarship                              Fundamental  Medio  Superior\n",
      "Household Head Job or Business Indicator                              \n",
      "No Job/Business                                    13      3         4\n",
      "With Job/Business                                  26     44        10\n"
     ]
    }
   ],
   "source": [
    "tab = pd.crosstab(df['Household Head Job or Business Indicator'], df['Schoolarship'])\n",
    "print(tab)"
   ]
  },
  {
   "cell_type": "code",
   "execution_count": 49,
   "metadata": {},
   "outputs": [],
   "source": [
    "corr = np.array([[10, 4, 6],[29 , 27, 24]])"
   ]
  },
  {
   "cell_type": "code",
   "execution_count": 50,
   "metadata": {},
   "outputs": [],
   "source": [
    "stats, pvalor, dof, exp = chi2_contingency(corr)"
   ]
  },
  {
   "cell_type": "code",
   "execution_count": 51,
   "metadata": {},
   "outputs": [
    {
     "data": {
      "text/plain": [
       "array([[ 7.8,  6.2,  6. ],\n",
       "       [31.2, 24.8, 24. ]])"
      ]
     },
     "execution_count": 51,
     "metadata": {},
     "output_type": "execute_result"
    }
   ],
   "source": [
    "exp"
   ]
  },
  {
   "cell_type": "code",
   "execution_count": 52,
   "metadata": {},
   "outputs": [
    {
     "data": {
      "text/plain": [
       "0.41656042968208207"
      ]
     },
     "execution_count": 52,
     "metadata": {},
     "output_type": "execute_result"
    }
   ],
   "source": [
    "pvalor"
   ]
  },
  {
   "cell_type": "markdown",
   "metadata": {},
   "source": [
    "### Como:\n",
    "\n",
    "### $$ pvalor > 0.05 $$\n",
    "\n",
    "### ---> Então, não rejeitamos $H_0$ e podemos dizer que os indicadores são independentes. Desta forma, estar ou não trabalhando não depende do grau de escolaridade"
   ]
  }
 ],
 "metadata": {
  "kernelspec": {
   "display_name": "Python 3",
   "language": "python",
   "name": "python3"
  },
  "language_info": {
   "codemirror_mode": {
    "name": "ipython",
    "version": 3
   },
   "file_extension": ".py",
   "mimetype": "text/x-python",
   "name": "python",
   "nbconvert_exporter": "python",
   "pygments_lexer": "ipython3",
   "version": "3.7.3"
  }
 },
 "nbformat": 4,
 "nbformat_minor": 4
}
